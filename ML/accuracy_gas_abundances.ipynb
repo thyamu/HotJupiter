{
 "cells": [
  {
   "cell_type": "markdown",
   "metadata": {
    "pycharm": {
     "name": "#%% md\n"
    }
   },
   "source": [
    "#### Accuracy vs. Temp (and spread) for individual gas abundances (CO, CH4, NH3, H2O)\n",
    "#### Accuracy vs. Temp (and spread) for CO/CH4 (or \"cross-mix\" systems, CO/NH3 or CH4/NH3)"
   ]
  },
  {
   "cell_type": "code",
   "execution_count": 1,
   "metadata": {
    "collapsed": false,
    "jupyter": {
     "outputs_hidden": false
    },
    "pycharm": {
     "is_executing": false,
     "name": "#%%\n"
    },
    "tags": []
   },
   "outputs": [],
   "source": [
    "import os\n",
    "import numpy as np\n",
    "import pandas as pd\n",
    "import json\n",
    "import glob\n",
    "import sklearn.model_selection as ms\n",
    "from sklearn import metrics\n",
    "import xgboost as xgb\n",
    "from itertools import combinations\n",
    "import matplotlib.pyplot as plt\n",
    "import time\n",
    "import warnings\n",
    "warnings.filterwarnings(action=\"ignore\", category=UserWarning)"
   ]
  },
  {
   "cell_type": "code",
   "execution_count": 2,
   "metadata": {
    "collapsed": false,
    "jupyter": {
     "outputs_hidden": false
    },
    "pycharm": {
     "is_executing": false,
     "name": "#%%\n"
    },
    "tags": []
   },
   "outputs": [],
   "source": [
    "def XGB_accuracy(X, Y):\n",
    "    \n",
    "    # split datasets for training and testing\n",
    "    x_train, x_test, y_train, y_test = ms.train_test_split(X, Y, test_size=0.2, random_state=0)\n",
    "    eval_set = [(x_train, y_train), (x_test, y_test)]\n",
    "\n",
    "    # fit the decision tree\n",
    "    classifier = xgb.XGBClassifier(objective=\"multi:softprob\", min_child_wight=10, max_depth=5, n_estimators=1000)\n",
    "    classifier = classifier.fit(x_train, y_train, early_stopping_rounds=100, eval_set=eval_set,\n",
    "                                eval_metric=[\"merror\", \"mlogloss\"], verbose=False)\n",
    "    # predictions\n",
    "    y_pred = classifier.predict(x_test)\n",
    "    return metrics.accuracy_score(y_test, y_pred)"
   ]
  },
  {
   "cell_type": "markdown",
   "metadata": {
    "pycharm": {
     "name": "#%% md\n"
    }
   },
   "source": [
    "#### combinations of abundance of 4 compounds for feature and variables"
   ]
  },
  {
   "cell_type": "code",
   "execution_count": 3,
   "metadata": {
    "collapsed": false,
    "jupyter": {
     "outputs_hidden": false
    },
    "pycharm": {
     "is_executing": false,
     "name": "#%%\n"
    },
    "tags": []
   },
   "outputs": [],
   "source": [
    "def select_abundance(list_var, nbr_selection):\n",
    "    var_comb = dict()\n",
    "    length = 0  \n",
    "    for n in combinations(list_var, nbr_selection):\n",
    "        var_comb[length] = list()\n",
    "        for c in n:\n",
    "            var_comb[length].append(c)  \n",
    "        length += 1\n",
    "    return var_comb\n",
    "\n",
    "def convert_listVar_to_str(listVar, cutout='', connection='_'):\n",
    "    var_name = \"\"\n",
    "    for c in listVar:\n",
    "        var_name += c.replace(cutout, connection)\n",
    "    return var_name"
   ]
  },
  {
   "cell_type": "markdown",
   "metadata": {
    "pycharm": {
     "name": "#%% md\n"
    }
   },
   "source": [
    "#### Individual plots with different combination of abundance."
   ]
  },
  {
   "cell_type": "code",
   "execution_count": 4,
   "metadata": {
    "collapsed": false,
    "jupyter": {
     "outputs_hidden": false
    },
    "pycharm": {
     "is_executing": false,
     "name": "#%%\n"
    },
    "tags": []
   },
   "outputs": [],
   "source": [
    "dir_plot = \"/Users/hkim78/work/HotJupiter/plot/atmosphere-uncertainty/machine_learning/\"\n",
    "if not os.path.exists(dir_plot):\n",
    "    os.mkdir(dir_plot)\n",
    "\n",
    "result_dir = \"/Users/hkim78/work/HotJupiter/ML/results/accuracy/\""
   ]
  },
  {
   "cell_type": "code",
   "execution_count": 5,
   "metadata": {
    "collapsed": false,
    "jupyter": {
     "outputs_hidden": false
    },
    "pycharm": {
     "is_executing": false,
     "name": "#%%\n"
    },
    "tags": []
   },
   "outputs": [],
   "source": [
    "header_abundance = ['CH4 abundance', 'CO abundance', 'H2O abundance', 'NH3 abundance'] \n",
    "header_comb1 = select_abundance(header_abundance, 1)\n",
    "header_comb2 = select_abundance(header_abundance, 2)\n",
    "header_comb3 = select_abundance(header_abundance, 3)"
   ]
  },
  {
   "cell_type": "code",
   "execution_count": null,
   "metadata": {
    "collapsed": false,
    "jupyter": {
     "outputs_hidden": false
    },
    "pycharm": {
     "is_executing": false,
     "name": "#%%\n"
    },
    "tags": []
   },
   "outputs": [
    {
     "name": "stdout",
     "output_type": "stream",
     "text": [
      "[19:22:40] WARNING: /Users/runner/work/xgboost/xgboost/python-package/build/temp.macosx-10.9-x86_64-cpython-38/xgboost/src/learner.cc:767: \n",
      "Parameters: { \"min_child_wight\" } are not used.\n",
      "\n",
      "[19:22:43] WARNING: /Users/runner/work/xgboost/xgboost/python-package/build/temp.macosx-10.9-x86_64-cpython-38/xgboost/src/learner.cc:767: \n",
      "Parameters: { \"min_child_wight\" } are not used.\n",
      "\n"
     ]
    }
   ],
   "source": [
    "for h in [header_comb1, header_comb2, header_comb3]: \n",
    "    for n in h:\n",
    "        dict_accuracy = dict()\n",
    "        st = time.time()\n",
    "        for spread in [\"50\", \"250\", \"1000\"]: #spread\n",
    "            data_dir = \"/Users/hkim78/work/HotJupiter/data/atmosphere-uncertainty/parsed_data/%sk_spread/\"%spread\n",
    "            plot_dir = \"/Users/hkim78/work/HotJupiter/plot/atmosphere-uncertainty/%sk_spread/\"%spread\n",
    "            dict_accuracy[spread] = list()\n",
    "\n",
    "            for t in np.arange(400, 2100, 100):\n",
    "                data0 = pd.read_csv(data_dir + 'kzz0_temp%d_spread%s.csv'%(t, spread))\n",
    "                data1 = pd.read_csv(data_dir + 'kzz1_temp%d_spread%s.csv'%(t, spread))\n",
    "                data2 = pd.read_csv(data_dir + 'kzz2_temp%d_spread%s.csv'%(t, spread))\n",
    "                data3 = pd.read_csv(data_dir + 'kzz3_temp%d_spread%s.csv'%(t, spread))\n",
    "\n",
    "                frames = [data0, data1, data2, data3]\n",
    "                features = h[n] + ['kzz']\n",
    "                allData = pd.concat(frames, ignore_index=True)\n",
    "\n",
    "                allData = allData[features]\n",
    "\n",
    "                # split into dependent and independent variables\n",
    "                X = allData.iloc[:, :-1]\n",
    "                Y = allData.iloc[:, -1].values\n",
    "                a = XGB_accuracy(X, Y)\n",
    "                dict_accuracy[spread].append(a)\n",
    "\n",
    "        var = convert_listVar_to_str(h[n], \" abundance\")\n",
    "        output_path = result_dir + var + \"accuracy.json\"\n",
    "\n",
    "        # with open(output_path, 'w') as outfile:\n",
    "        #     json.dump(dict_accuracy, outfile)\n",
    "        et = time.time()\n",
    "        print(n, h[n], var, et-st)"
   ]
  },
  {
   "cell_type": "code",
   "execution_count": 8,
   "metadata": {
    "collapsed": false,
    "jupyter": {
     "outputs_hidden": false
    },
    "pycharm": {
     "is_executing": false,
     "name": "#%%\n"
    },
    "tags": []
   },
   "outputs": [],
   "source": [
    "result_dir = \"/Users/hkim78/work/2020-hotJupiter/ML/results/accuracy/abundance/\"\n",
    "\n",
    "input_paths = dict()\n",
    "\n",
    "list_com_var = list()\n",
    "\n",
    "for file_path in glob.glob(result_dir +\"*.json\"):\n",
    "    \n",
    "    var = file_path.split(\"abundance/\")[1].split(\"_accuracy\")[0]\n",
    "    list_com_var.append(var)\n",
    "    \n",
    "    with open(file_path) as infile:\n",
    "        a = json.load(infile)\n",
    "    \n",
    "    list_cc = ['#1E88E5', '#BB5566', '#228833']\n",
    "\n",
    "    plt.figure(figsize=(3.3, 2.7))\n",
    "    i = 0\n",
    "    for spread in [\"50\", \"250\", \"1000\"]:\n",
    "        plt.plot(a[spread], label=spread, linewidth=2, color=list_cc[i])\n",
    "\n",
    "        plt.xticks(np.arange(0, 17, 2), np.arange(400, 2100, 200), fontsize=7.5, rotation=30)\n",
    "        plt.yticks(fontsize=7.5)\n",
    "        plt.xlabel(\"Mean Temperature (K)\", fontsize=8)\n",
    "        plt.ylabel(\"Accuracy\", fontsize=8)\n",
    "        i += 1\n",
    "\n",
    "    plt.title(\"%s\"%var, fontsize=9)\n",
    "    plt.ylim([0.0,1.05])\n",
    "    legend_spread = plt.legend(prop={\"size\":7.5}, title='Spread')\n",
    "    plt.setp(legend_spread.get_title(), fontsize= 7.5)\n",
    "    plt.tight_layout()\n",
    "    # plt.savefig(dir_plot + \"accuracy_%s.png\"%var, dpi=90)\n",
    "    plt.show()"
   ]
  },
  {
   "cell_type": "code",
   "execution_count": null,
   "metadata": {
    "collapsed": false,
    "jupyter": {
     "outputs_hidden": false
    },
    "pycharm": {
     "name": "#%%\n"
    }
   },
   "outputs": [],
   "source": [
    "\n"
   ]
  }
 ],
 "metadata": {
  "kernelspec": {
   "display_name": "Python 3 (ipykernel)",
   "language": "python",
   "name": "python3"
  },
  "language_info": {
   "codemirror_mode": {
    "name": "ipython",
    "version": 3
   },
   "file_extension": ".py",
   "mimetype": "text/x-python",
   "name": "python",
   "nbconvert_exporter": "python",
   "pygments_lexer": "ipython3",
   "version": "3.9.6"
  },
  "pycharm": {
   "stem_cell": {
    "cell_type": "raw",
    "metadata": {
     "collapsed": false
    },
    "source": []
   }
  }
 },
 "nbformat": 4,
 "nbformat_minor": 4
}
