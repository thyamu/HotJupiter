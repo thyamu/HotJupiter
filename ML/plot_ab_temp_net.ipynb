{
 "cells": [
  {
   "cell_type": "code",
   "execution_count": 24,
   "metadata": {
    "collapsed": true,
    "pycharm": {
     "name": "#%%\n",
     "is_executing": false
    }
   },
   "outputs": [],
   "source": [
    "import numpy as np\n",
    "import math \n",
    "import pickle"
   ]
  },
  {
   "cell_type": "code",
   "execution_count": 25,
   "outputs": [],
   "source": [
    "for temp in np.arange(200,500, 100): #3000, 100):\n",
    "    path_eq = \"/Users/hkim78/work/HotJupiter/data/conceptual_figure/%dk_1met_kzz0.vul\"%temp\n",
    "    path_dis = \"/Users/hkim78/work/HotJupiter/data/conceptual_figure/%dk_1met_kzz1e10.vul\"%temp\n",
    "    \n",
    "    with open(path_eq,'rb') as f:\n",
    "\t    v_eq = pickle.load(f,encoding='latin1')\n",
    "        \n",
    "    H2O=math.log(v_eq['variable']['ymix'][29][1],10)\n",
    "    CH4=math.log(v_eq['variable']['ymix'][29][9],10)\n",
    "    CO=math.log(v_eq['variable']['ymix'][20][17],10)\n",
    "    NH3=math.log(v_eq['variable']['ymix'][29][35],10)\n",
    "    N2=math.log(v_eq['variable']['ymix'][29][34],10)\n",
    "    \n",
    "    with open(path_dis,'rb') as f:\n",
    "        v_dis = pickle.load(f, encoding='latin1')\n",
    "\n",
    "\n",
    "    H2O=math.log(v_eq['variable']['ymix'][29][1],10)\n",
    "    CH4=math.log(v_eq['variable']['ymix'][29][9],10)\n",
    "    CO=math.log(v_eq['variable']['ymix'][20][17],10)\n",
    "    NH3=math.log(v_eq['variable']['ymix'][29][35],10)\n",
    "    N2=math.log(v_eq['variable']['ymix'][29][34],10)\n",
    "\n",
    "\n",
    "\n",
    "\n"
   ],
   "metadata": {
    "collapsed": false,
    "pycharm": {
     "name": "#%%\n",
     "is_executing": false
    }
   }
  }
 ],
 "metadata": {
  "kernelspec": {
   "display_name": "Python 3",
   "language": "python",
   "name": "python3"
  },
  "language_info": {
   "codemirror_mode": {
    "name": "ipython",
    "version": 2
   },
   "file_extension": ".py",
   "mimetype": "text/x-python",
   "name": "python",
   "nbconvert_exporter": "python",
   "pygments_lexer": "ipython2",
   "version": "2.7.6"
  },
  "pycharm": {
   "stem_cell": {
    "cell_type": "raw",
    "source": [],
    "metadata": {
     "collapsed": false
    }
   }
  }
 },
 "nbformat": 4,
 "nbformat_minor": 0
}