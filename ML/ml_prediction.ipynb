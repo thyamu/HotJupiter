{
 "cells": [
  {
   "cell_type": "markdown",
   "metadata": {
    "pycharm": {
     "is_executing": false,
     "name": "#%% md\n"
    }
   },
   "source": [
    "## ML prediction efficacy of G, abundance, topology for disequilibrium \n"
   ]
  },
  {
   "cell_type": "code",
   "execution_count": 2,
   "metadata": {
    "collapsed": false,
    "jupyter": {
     "outputs_hidden": false
    },
    "pycharm": {
     "is_executing": false,
     "name": "#%%\n"
    }
   },
   "outputs": [],
   "source": [
    "import os\n",
    "import numpy as np\n",
    "import pandas as pd\n",
    "import json\n",
    "import sklearn.model_selection as ms\n",
    "from sklearn import metrics\n",
    "import xgboost as xgb\n",
    "import matplotlib.pyplot as plt\n",
    "import time"
   ]
  },
  {
   "cell_type": "code",
   "execution_count": 2,
   "metadata": {
    "collapsed": false,
    "jupyter": {
     "outputs_hidden": false
    },
    "pycharm": {
     "is_executing": false,
     "name": "#%%\n"
    }
   },
   "outputs": [],
   "source": [
    "def XGB_accuracy(X, Y):\n",
    "    # Split for training and testing\n",
    "    x_train, x_test, y_train, y_test = ms.train_test_split(X, Y, test_size=0.2, random_state=0)\n",
    "    eval_set = [(x_train, y_train), (x_test, y_test)]\n",
    "    # Fit the decision tree\n",
    "    classifier = xgb.XGBClassifier(objective=\"multi:softprob\", min_child_wight=10, max_depth= 5, n_estimators=1000)\n",
    "    classifier = classifier.fit(x_train, y_train, early_stopping_rounds=100, eval_set=eval_set,\n",
    "                                eval_metric=[\"merror\", \"mlogloss\"], verbose=False)\n",
    "    # Predictions\n",
    "    y_pred = classifier.predict(x_test)\n",
    "    return metrics.accuracy_score(y_test, y_pred)"
   ]
  },
  {
   "cell_type": "markdown",
   "metadata": {
    "pycharm": {
     "name": "#%% md\n"
    }
   },
   "source": [
    "### headers for different groups of features"
   ]
  },
  {
   "cell_type": "code",
   "execution_count": 3,
   "metadata": {
    "collapsed": false,
    "jupyter": {
     "outputs_hidden": false
    },
    "pycharm": {
     "is_executing": false,
     "name": "#%%\n"
    }
   },
   "outputs": [],
   "source": [
    "header = [\"Temperature\", \"Metallicity Altitude\",\t\n",
    "          \"Mean Degree\", \"Average clustering coefficient\", \n",
    "          \"Average node betweenness centrality\", \"Edge betweenness centrality\",\t\n",
    "          \"Average shortest path length\", \"Average neighbor degree\", \n",
    "          \"CO abundance\", \"CH4 abundance\", \"NH3 abundance\",\t\"H2O abundance\",\t\n",
    "          \"Delta G distribution\",\t\"Phi distribution\"\t\n",
    "          \"Mean of Temperature Distribution\", \"Kzz\", \"Spread of Uncertainty\"]\n",
    "\n",
    "header_abundance = [\"CO abundance\", \"CH4 abundance\", \"NH3 abundance\",\t\"H2O abundance\"]\n",
    "\n",
    "header_topology = [\"Mean Degree\", \"Average clustering coefficient\", \n",
    "                \"Average node betweenness centrality\", \"Edge betweenness centrality\",\t\n",
    "                \"Average shortest path length\", \"Average neighbor degree\"]"
   ]
  },
  {
   "cell_type": "code",
   "execution_count": null,
   "metadata": {
    "collapsed": false,
    "jupyter": {
     "outputs_hidden": false
    },
    "pycharm": {
     "is_executing": false,
     "name": "#%%\n"
    }
   },
   "outputs": [
    {
     "name": "stderr",
     "output_type": "stream",
     "text": [
      "/Users/hkim78/Library/Python/3.9/lib/python/site-packages/xgboost/sklearn.py:835: UserWarning: `eval_metric` in `fit` method is deprecated for better compatibility with scikit-learn, use `eval_metric` in constructor or`set_params` instead.\n",
      "  warnings.warn(\n",
      "/Users/hkim78/Library/Python/3.9/lib/python/site-packages/xgboost/sklearn.py:835: UserWarning: `early_stopping_rounds` in `fit` method is deprecated for better compatibility with scikit-learn, use `early_stopping_rounds` in constructor or`set_params` instead.\n",
      "  warnings.warn(\n"
     ]
    },
    {
     "name": "stdout",
     "output_type": "stream",
     "text": [
      "[20:43:41] WARNING: /Users/runner/work/xgboost/xgboost/python-package/build/temp.macosx-10.9-x86_64-cpython-38/xgboost/src/learner.cc:767: \n",
      "Parameters: { \"min_child_wight\" } are not used.\n",
      "\n"
     ]
    },
    {
     "name": "stderr",
     "output_type": "stream",
     "text": [
      "/Users/hkim78/Library/Python/3.9/lib/python/site-packages/xgboost/sklearn.py:835: UserWarning: `eval_metric` in `fit` method is deprecated for better compatibility with scikit-learn, use `eval_metric` in constructor or`set_params` instead.\n",
      "  warnings.warn(\n",
      "/Users/hkim78/Library/Python/3.9/lib/python/site-packages/xgboost/sklearn.py:835: UserWarning: `early_stopping_rounds` in `fit` method is deprecated for better compatibility with scikit-learn, use `early_stopping_rounds` in constructor or`set_params` instead.\n",
      "  warnings.warn(\n"
     ]
    },
    {
     "name": "stdout",
     "output_type": "stream",
     "text": [
      "[20:43:43] WARNING: /Users/runner/work/xgboost/xgboost/python-package/build/temp.macosx-10.9-x86_64-cpython-38/xgboost/src/learner.cc:767: \n",
      "Parameters: { \"min_child_wight\" } are not used.\n",
      "\n"
     ]
    },
    {
     "name": "stderr",
     "output_type": "stream",
     "text": [
      "/Users/hkim78/Library/Python/3.9/lib/python/site-packages/xgboost/sklearn.py:835: UserWarning: `eval_metric` in `fit` method is deprecated for better compatibility with scikit-learn, use `eval_metric` in constructor or`set_params` instead.\n",
      "  warnings.warn(\n",
      "/Users/hkim78/Library/Python/3.9/lib/python/site-packages/xgboost/sklearn.py:835: UserWarning: `early_stopping_rounds` in `fit` method is deprecated for better compatibility with scikit-learn, use `early_stopping_rounds` in constructor or`set_params` instead.\n",
      "  warnings.warn(\n"
     ]
    },
    {
     "name": "stdout",
     "output_type": "stream",
     "text": [
      "[20:43:46] WARNING: /Users/runner/work/xgboost/xgboost/python-package/build/temp.macosx-10.9-x86_64-cpython-38/xgboost/src/learner.cc:767: \n",
      "Parameters: { \"min_child_wight\" } are not used.\n",
      "\n"
     ]
    },
    {
     "name": "stderr",
     "output_type": "stream",
     "text": [
      "/Users/hkim78/Library/Python/3.9/lib/python/site-packages/xgboost/sklearn.py:835: UserWarning: `eval_metric` in `fit` method is deprecated for better compatibility with scikit-learn, use `eval_metric` in constructor or`set_params` instead.\n",
      "  warnings.warn(\n",
      "/Users/hkim78/Library/Python/3.9/lib/python/site-packages/xgboost/sklearn.py:835: UserWarning: `early_stopping_rounds` in `fit` method is deprecated for better compatibility with scikit-learn, use `early_stopping_rounds` in constructor or`set_params` instead.\n",
      "  warnings.warn(\n"
     ]
    },
    {
     "name": "stdout",
     "output_type": "stream",
     "text": [
      "[20:43:47] WARNING: /Users/runner/work/xgboost/xgboost/python-package/build/temp.macosx-10.9-x86_64-cpython-38/xgboost/src/learner.cc:767: \n",
      "Parameters: { \"min_child_wight\" } are not used.\n",
      "\n"
     ]
    },
    {
     "name": "stderr",
     "output_type": "stream",
     "text": [
      "/Users/hkim78/Library/Python/3.9/lib/python/site-packages/xgboost/sklearn.py:835: UserWarning: `eval_metric` in `fit` method is deprecated for better compatibility with scikit-learn, use `eval_metric` in constructor or`set_params` instead.\n",
      "  warnings.warn(\n",
      "/Users/hkim78/Library/Python/3.9/lib/python/site-packages/xgboost/sklearn.py:835: UserWarning: `early_stopping_rounds` in `fit` method is deprecated for better compatibility with scikit-learn, use `early_stopping_rounds` in constructor or`set_params` instead.\n",
      "  warnings.warn(\n"
     ]
    },
    {
     "name": "stdout",
     "output_type": "stream",
     "text": [
      "[20:43:52] WARNING: /Users/runner/work/xgboost/xgboost/python-package/build/temp.macosx-10.9-x86_64-cpython-38/xgboost/src/learner.cc:767: \n",
      "Parameters: { \"min_child_wight\" } are not used.\n",
      "\n"
     ]
    }
   ],
   "source": [
    "# compute accuracy of predicting Kzz using different combination of G, topoAve, and abundance.\n",
    "dict_var = {'g':['Delta G distribution'],  'topo': header_topology, 'ab': header_abundance,\n",
    "            'topo_ab': header_topology + header_abundance, \n",
    "            'g_topo': ['Delta G distribution'] + header_topology,\n",
    "            'g_ab' : ['Delta G distribution'] + header_abundance,\n",
    "            'g_topo_ab': ['Delta G distribution'] + header_topology + header_abundance}\n",
    "\n",
    "for var in ['ab', 'topo']:#dict_var.keys():\n",
    "    st = time.time()\n",
    "    var_name = dict_var[var]\n",
    "\n",
    "    dict_accuracy = dict()\n",
    "    for spread in [\"50\", \"250\", \"500\", \"1000\"]: #spread\n",
    "        data_dir = \"/Users/hkim78/work/HotJupiter/data/atmosphere-uncertainty/parsed_data/2021/%sk_spread/\"%spread\n",
    "        plot_dir = \"/Users/hkim78/work/HotJupiter/plot/atmosphere-uncertainty/parsed_data/2021/%sk_spread/\"%spread\n",
    "\n",
    "        dict_accuracy[spread] = list()\n",
    "\n",
    "        for t in np.arange(400, 2100, 100):\n",
    "            data0 = pd.read_csv(data_dir + 'kzz0-aveT%dK.csv'%(t))\n",
    "            data1 = pd.read_csv(data_dir + 'kzz1-aveT%dK.csv'%(t))\n",
    "            data2 = pd.read_csv(data_dir + 'kzz2-aveT%dK.csv'%(t))\n",
    "            data3 = pd.read_csv(data_dir + 'kzz3-aveT%dK.csv'%(t))\n",
    "\n",
    "            frames = [data0, data1, data2, data3]\n",
    "            features = var_name + ['Kzz']\n",
    "            allData = pd.concat(frames, ignore_index=True)\n",
    "\n",
    "            allData = allData[features]\n",
    "\n",
    "            # Split into dependent and independent variables\n",
    "            X = allData.iloc[:, :-1]\n",
    "            Y = allData.iloc[:, -1].values\n",
    "\n",
    "            a = XGB_accuracy(X, Y)\n",
    "            dict_accuracy[spread].append(a)\n",
    "\n",
    "    result_dir = \"/Users/hkim78/work/2020-hotJupiter/ML/results/accuracy/2021/\"\n",
    "    output_path = result_dir + \"accuracy_%s.json\"%var\n",
    "\n",
    "    with open(output_path, 'w') as outfile:\n",
    "        json.dump(dict_accuracy, outfile)\n",
    "\n",
    "    et = time.time()\n",
    "\n",
    "    print(var, (et - st))\n"
   ]
  },
  {
   "cell_type": "code",
   "execution_count": 4,
   "metadata": {
    "collapsed": false,
    "jupyter": {
     "outputs_hidden": false
    },
    "pycharm": {
     "name": "#%%\n"
    }
   },
   "outputs": [
    {
     "data": {
      "image/png": "[encoded data removed]",
      "text/plain": [
       "<Figure size 290x240 with 1 Axes>"
      ]
     },
     "metadata": {},
     "output_type": "display_data"
    }
   ],
   "source": [
    "# individual plots with different combination of variables; G, topoAve, and abundance.\n",
    "list_var = ['topo', 'ab', 'g',\n",
    "            'topo_ab', 'g_topo', 'g_ab',\n",
    "            'g_topo_ab']\n",
    "\n",
    "dict_varname = {'topo': 'Topology', 'ab': 'Abundance', 'g':'G',\n",
    "            'topo_ab': 'Topology + Abundance', 'g_topo':'G + Topology', 'g_ab': 'G + Abundance',\n",
    "            'g_topo_ab': 'G + Topology + Abundance'}\n",
    "\n",
    "dir_plot = \"/Users/hkim78/work/HotJupiter/plot/atmosphere-uncertainty/machine_learning/\"\n",
    "if not os.path.exists(dir_plot):\n",
    "    os.mkdir(dir_plot)\n",
    "\n",
    "result_dir = \"/Users/hkim78/work/HotJupiter/ML/results/accuracy/\"\n",
    "\n",
    "input_paths = dict()\n",
    "for var in list_var[:1]:\n",
    "    input_paths[var] = result_dir + 'accuracy_%s_maxdepth10.json'%var\n",
    "    with open(input_paths[var]) as infile:\n",
    "        a = json.load(infile)\n",
    "    list_cc = ['#1E88E5', '#BB5566', '#228833']\n",
    "\n",
    "    plt.figure(figsize=(2.9, 2.4))\n",
    "    i = 0\n",
    "    for spread in [\"50\", \"250\", \"1000\"]:\n",
    "        plt.plot(a[spread], label=spread, linewidth=2, color=list_cc[i])\n",
    "\n",
    "        plt.xticks(np.arange(0, 17, 2), np.arange(400, 2100, 200), fontsize=7.5, rotation=30)\n",
    "        plt.yticks(fontsize=7.5)\n",
    "        plt.xlabel(\"Mean Temperature (K)\", fontsize=8)\n",
    "        plt.ylabel(\"Accuracy\", fontsize=8)\n",
    "        i += 1\n",
    "\n",
    "    plt.title(\"%s\"%dict_varname[var], fontsize=9)\n",
    "    plt.ylim([0.64,1.01])\n",
    "    legend_spread = plt.legend(prop={\"size\":7.5}, title='Spread', bbox_to_anchor=(0.05, 0.22, 0.32, 0.3))\n",
    "    plt.setp(legend_spread.get_title(), fontsize= 7.5)\n",
    "    plt.tight_layout()\n",
    "    plt.savefig(dir_plot + \"accuracy_%s.png\"%var, dpi=90)\n",
    "    plt.show()"
   ]
  }
 ],
 "metadata": {
  "kernelspec": {
   "display_name": "Python 3 (ipykernel)",
   "language": "python",
   "name": "python3"
  },
  "language_info": {
   "codemirror_mode": {
    "name": "ipython",
    "version": 3
   },
   "file_extension": ".py",
   "mimetype": "text/x-python",
   "name": "python",
   "nbconvert_exporter": "python",
   "pygments_lexer": "ipython3",
   "version": "3.9.6"
  },
  "pycharm": {
   "stem_cell": {
    "cell_type": "raw",
    "metadata": {
     "collapsed": false
    },
    "source": []
   }
  }
 },
 "nbformat": 4,
 "nbformat_minor": 4
}
