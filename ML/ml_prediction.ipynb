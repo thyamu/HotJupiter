{
 "cells": [
  {
   "cell_type": "markdown",
   "metadata": {
    "collapsed": true,
    "pycharm": {
     "name": "#%% md\n",
     "is_executing": false
    }
   },
   "source": [
    "## ML prediction efficacy of G, abundance, topology for disequilibrium \n"
   ]
  },
  {
   "cell_type": "code",
   "execution_count": 6,
   "outputs": [],
   "source": [
    "import os\n",
    "import numpy as np\n",
    "import pandas as pd\n",
    "import json\n",
    "import sklearn.model_selection as ms\n",
    "from sklearn import metrics\n",
    "import xgboost as xgb\n",
    "import matplotlib.pyplot as plt\n",
    "import time\n"
   ],
   "metadata": {
    "collapsed": false,
    "pycharm": {
     "name": "#%%\n",
     "is_executing": false
    }
   }
  },
  {
   "cell_type": "code",
   "execution_count": 7,
   "outputs": [],
   "source": [
    "def XGB_accuracy(X, Y):\n",
    "    \"\"\" Split for training and testing\n",
    "    \"\"\"\n",
    "    x_train, x_test, y_train, y_test = ms.train_test_split(X, Y, test_size=0.2, random_state=0)\n",
    "    eval_set = [(x_train, y_train), (x_test, y_test)]\n",
    "\n",
    "    \"\"\" Fit the decision tree\n",
    "    \"\"\"\n",
    "    # classifier = xgb.XGBClassifier(objective=\"multi:softprob\", min_child_wight=1000, max_depth=2, n_estimators=10000)\n",
    "    classifier = xgb.XGBClassifier(objective=\"multi:softprob\", min_child_wight=10, max_depth= 5, n_estimators=1000)\n",
    "    # max_depth = 5 in the current draft\n",
    "    classifier = classifier.fit(x_train, y_train, early_stopping_rounds=100, eval_set=eval_set,\n",
    "                                eval_metric=[\"merror\", \"mlogloss\"], verbose=False)\n",
    "    \"\"\" Predictions\n",
    "    \"\"\"\n",
    "    y_pred = classifier.predict(x_test)\n",
    "    return metrics.accuracy_score(y_test, y_pred)\n",
    "\n"
   ],
   "metadata": {
    "collapsed": false,
    "pycharm": {
     "name": "#%%\n",
     "is_executing": false
    }
   }
  },
  {
   "cell_type": "markdown",
   "source": [
    "### headers for different groups of features"
   ],
   "metadata": {
    "collapsed": false,
    "pycharm": {
     "name": "#%% md\n"
    }
   }
  },
  {
   "cell_type": "code",
   "execution_count": 8,
   "outputs": [],
   "source": [
    "header = [\"Temperature\", \"Metallicity Altitude\",\t\n",
    "          \"Mean Degree\", \"Average clustering coefficient\", \n",
    "          \"Average node betweenness centrality\", \"Edge betweenness centrality\",\t\n",
    "          \"Average shortest path length\", \"Average neighbor degree\", \n",
    "          \"CO abundance\", \"CH4 abundance\", \"NH3 abundance\",\t\"H2O abundance\",\t\n",
    "          \"Delta G distribution\",\t\"Phi distribution\"\t\n",
    "          \"Mean of Temperature Distribution\", \"Kzz\", \"Spread of Uncertainty\"]\n",
    "\n",
    "header_abundance = [\"CO abundance\", \"CH4 abundance\", \"NH3 abundance\",\t\"H2O abundance\"]\n",
    "\n",
    "header_topology = [\"Mean Degree\", \"Average clustering coefficient\", \n",
    "                \"Average node betweenness centrality\", \"Edge betweenness centrality\",\t\n",
    "                \"Average shortest path length\", \"Average neighbor degree\"]\n"
   ],
   "metadata": {
    "collapsed": false,
    "pycharm": {
     "name": "#%%\n",
     "is_executing": false
    }
   }
  },
  {
   "cell_type": "code",
   "execution_count": 17,
   "outputs": [
    {
     "name": "stdout",
     "text": [
      "starting ab\n",
      "ab 2331.287754058838\n",
      "starting topo\n",
      "topo 4338.082410097122\n"
     ],
     "output_type": "stream"
    }
   ],
   "source": [
    "# compute accuracy of predicting Kzz using different combination of G, topoAve, and abundance.\n",
    "dict_var = {'g':['Delta G distribution'],  'topo': header_topology, 'ab': header_abundance,\n",
    "            'topo_ab': header_topology + header_abundance, \n",
    "            'g_topo': ['Delta G distribution'] + header_topology,\n",
    "            'g_ab' : ['Delta G distribution'] + header_abundance,\n",
    "            'g_topo_ab': ['Delta G distribution'] + header_topology + header_abundance}\n",
    "\n",
    "for var in ['ab', 'topo']:#dict_var.keys():\n",
    "    st = time.time()\n",
    "    print('starting', var)\n",
    "    var_name = dict_var[var]\n",
    "\n",
    "    dict_accuracy = dict()\n",
    "    for spread in [\"50\", \"250\", \"500\", \"1000\"]: #spread\n",
    "        data_dir = \"/Users/hkim78/work/2020-hotJupiter/data/atmosphere-uncertainty/2021/%sk_spread/\"%spread\n",
    "        plot_dir = \"/Users/hkim78/work/2020-hotJupiter/plot/atmosphere-uncertainty/2021/%sk_spread/\"%spread\n",
    "\n",
    "        dict_accuracy[spread] = list()\n",
    "\n",
    "        for t in np.arange(400, 2100, 100):\n",
    "            data0 = pd.read_csv(data_dir + 'kzz0-aveT%dK.csv'%(t))\n",
    "            data1 = pd.read_csv(data_dir + 'kzz1-aveT%dK.csv'%(t))\n",
    "            data2 = pd.read_csv(data_dir + 'kzz2-aveT%dK.csv'%(t))\n",
    "            data3 = pd.read_csv(data_dir + 'kzz3-aveT%dK.csv'%(t))\n",
    "\n",
    "            frames = [data0, data1, data2, data3]\n",
    "            features = var_name + ['Kzz']\n",
    "            allData = pd.concat(frames, ignore_index=True)\n",
    "\n",
    "            allData = allData[features]\n",
    "\n",
    "            \"\"\" Split into dependent and independent variables\n",
    "            \"\"\"\n",
    "            X = allData.iloc[:, :-1]\n",
    "            Y = allData.iloc[:, -1].values\n",
    "\n",
    "            a = XGB_accuracy(X, Y)\n",
    "            dict_accuracy[spread].append(a)\n",
    "\n",
    "    result_dir = \"/Users/hkim78/work/2020-hotJupiter/ML/results/accuracy/2021/\"\n",
    "    output_path = result_dir + \"accuracy_%s.json\"%var\n",
    "\n",
    "    with open(output_path, 'w') as outfile:\n",
    "        json.dump(dict_accuracy, outfile)\n",
    "\n",
    "    et = time.time()\n",
    "\n",
    "    print(var, (et - st))\n"
   ],
   "metadata": {
    "collapsed": false,
    "pycharm": {
     "name": "#%%\n",
     "is_executing": false
    }
   }
  },
  {
   "cell_type": "code",
   "execution_count": null,
   "outputs": [],
   "source": [
    "# individual plots with different combination of variables; G, topoAve, and abundance.\n",
    "list_var = ['topo', 'ab', 'g',\n",
    "            'topo_ab', 'g_topo', 'g_ab',\n",
    "            'g_topo_ab']\n",
    "\n",
    "dict_varname = {'topo': 'Topology', 'ab': 'Abundance', 'g':'G',\n",
    "            'topo_ab': 'Topology + Abundance', 'g_topo':'G + Topology', 'g_ab': 'G + Abundance',\n",
    "            'g_topo_ab': 'G + Topology + Abundance'}\n",
    "\n",
    "dir_plot = \"/Users/hkim78/work/2020-hotJupiter/plot/atmosphere-uncertainty/machine_learning/\"\n",
    "if not os.path.exists(dir_plot):\n",
    "    os.mkdir(dir_plot)\n",
    "\n",
    "result_dir = \"/Users/hkim78/work/2020-hotJupiter/ML/results/accuracy/\"\n",
    "input_paths = dict()\n",
    "for var in list_var[:1]:\n",
    "    input_paths[var] = result_dir + 'accuracy_%s_maxdepth10.json'%var\n",
    "    with open(input_paths[var]) as infile:\n",
    "        a = json.load(infile)\n",
    "    list_cc = ['#1E88E5', '#BB5566', '#228833']\n",
    "\n",
    "    plt.figure(figsize=(2.9, 2.4))\n",
    "    i = 0\n",
    "    for spread in [\"50\", \"250\", \"1000\"]:\n",
    "        plt.plot(a[spread], label=spread, linewidth=2, color=list_cc[i])\n",
    "\n",
    "        plt.xticks(np.arange(0, 17, 2), np.arange(400, 2100, 200), fontsize=7.5, rotation=30)\n",
    "        plt.yticks(fontsize=7.5)\n",
    "        plt.xlabel(\"Mean Temperature (K)\", fontsize=8)\n",
    "        plt.ylabel(\"Accuracy\", fontsize=8)\n",
    "        i += 1\n",
    "\n",
    "    plt.title(\"%s\"%dict_varname[var], fontsize=9)\n",
    "    plt.ylim([0.64,1.01])\n",
    "    # lines = plt.gca().get_lines()\n",
    "    # legend_spread = plt.legend([lines[i] for i in np.arange(0, 3)], [\"50\", \"250\", \"1000\"],\n",
    "    #                            prop={\"size\":5}, title='Spread', bbox_to_anchor=(0.0, 0.15, 0.3, 0.3))\n",
    "    legend_spread = plt.legend(prop={\"size\":7.5}, title='Spread', bbox_to_anchor=(0.05, 0.22, 0.32, 0.3))\n",
    "    plt.setp(legend_spread.get_title(), fontsize= 7.5)\n",
    "    plt.tight_layout()\n",
    "    plt.savefig(dir_plot + \"accuracy_%s.png\"%var, dpi=90)\n",
    "    plt.show()\n",
    "\n",
    "\n",
    "#\n",
    "#\n",
    "#\n",
    "#\n",
    "#\n",
    "# #%%\n",
    "# dir_plot =  \"/Users/hkim78/work/2020-hotJupiter/plot/atmosphere-uncertainty/machine_learning/\"\n",
    "# if not os.path.exists(dir_plot):\n",
    "#     os.mkdir(dir_plot)\n",
    "#\n",
    "# result_dir = \"/Users/hkim78/work/2020-hotJupiter/ML/results/accuracy/\"\n",
    "#\n",
    "# input_path = result_dir + \"accuracy_g.json\"\n",
    "# with open(input_path, 'r') as infile:\n",
    "#     a = json.load(infile)\n",
    "#\n",
    "# input_path2 = result_dir + \"accuracy_g_topo.json\"\n",
    "# with open(input_path2, 'r') as infile2:\n",
    "#     b = json.load(infile2)\n",
    "#\n",
    "# input_path3 = result_dir + \"accuracy_g_ab.json\"\n",
    "# with open(input_path3, 'r') as infile3:\n",
    "#     c = json.load(infile3)\n",
    "#\n",
    "# #'#CC6677','#88CCEE'\n",
    "# plt.figure(figsize=(5.5,4.5))\n",
    "# list_cc = ['#009988', '#CC6677', '#999933']\n",
    "# list_cc = ['#004488', '#BB5566', '#228833']\n",
    "# i = 0\n",
    "# for spread in [\"50\", \"250\", \"1000\"]:\n",
    "#     plt.plot(a[spread], label=spread, linewidth=2.5, color=list_cc[i])\n",
    "#     plt.plot(b[spread], label=spread, linewidth=2.5, color=list_cc[i], linestyle='--')\n",
    "#     #plt.plot(c[spread], label=spread, linewidth=2.5, color=list_cc[i], linestyle='--', marker='o')\n",
    "#\n",
    "#     plt.xticks(np.arange(0,17,2), np.arange(400, 2100, 200), fontsize = 13, rotation=30)\n",
    "#     plt.yticks(fontsize=13)\n",
    "#\n",
    "#     plt.xlabel(\"Mean Temperature (K)\", fontsize=15)\n",
    "#     plt.ylabel(\"Accuracy\", fontsize=15)\n",
    "#\n",
    "#     plt.ylim([0.47,1.03])\n",
    "#\n",
    "#     i += 1\n",
    "#\n",
    "# lines = plt.gca().get_lines()\n",
    "# legend_spread = plt.legend([lines[i] for i in np.arange(0, 6, 2)], [\"50\", \"250\", \"1000\"],\n",
    "#                            prop={\"size\":11}, title='Spread', bbox_to_anchor=(0.7, 0., 0.3, 0.3))\n",
    "# legend_topo = plt.legend([lines[i] for i in [0,1]], [\"G\", \"G + Topology\"],\n",
    "#                          prop={\"size\":11}, title='Variables', loc='best', bbox_to_anchor=(0.47, 0., 0.3, 0.25))\n",
    "# plt.gca().add_artist(legend_spread)\n",
    "# plt.tight_layout()\n",
    "# plt.savefig(dir_plot + \"predicting_accuracy_g_aveTopo.png\")\n",
    "# plt.show()\n",
    "#\n",
    "#\n",
    "#\n"
   ],
   "metadata": {
    "collapsed": false,
    "pycharm": {
     "name": "#%%\n"
    }
   }
  }
 ],
 "metadata": {
  "kernelspec": {
   "display_name": "Python 3",
   "language": "python",
   "name": "python3"
  },
  "language_info": {
   "codemirror_mode": {
    "name": "ipython",
    "version": 2
   },
   "file_extension": ".py",
   "mimetype": "text/x-python",
   "name": "python",
   "nbconvert_exporter": "python",
   "pygments_lexer": "ipython2",
   "version": "2.7.6"
  },
  "pycharm": {
   "stem_cell": {
    "cell_type": "raw",
    "source": [],
    "metadata": {
     "collapsed": false
    }
   }
  }
 },
 "nbformat": 4,
 "nbformat_minor": 0
}