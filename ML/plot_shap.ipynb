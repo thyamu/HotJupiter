{
 "cells": [
  {
   "cell_type": "code",
   "execution_count": 1,
   "outputs": [
    {
     "traceback": [
      "\u001b[0;31m---------------------------------------------------------------------------\u001b[0m",
      "\u001b[0;31mAttributeError\u001b[0m                            Traceback (most recent call last)",
      "\u001b[0;32m<ipython-input-1-afe992fed50f>\u001b[0m in \u001b[0;36m<module>\u001b[0;34m\u001b[0m\n\u001b[1;32m      8\u001b[0m \u001b[0;32mfrom\u001b[0m \u001b[0msklearn\u001b[0m \u001b[0;32mimport\u001b[0m \u001b[0mmetrics\u001b[0m\u001b[0;34m\u001b[0m\u001b[0;34m\u001b[0m\u001b[0m\n\u001b[1;32m      9\u001b[0m \u001b[0;32mimport\u001b[0m \u001b[0mxgboost\u001b[0m \u001b[0;32mas\u001b[0m \u001b[0mxgb\u001b[0m\u001b[0;34m\u001b[0m\u001b[0;34m\u001b[0m\u001b[0m\n\u001b[0;32m---> 10\u001b[0;31m \u001b[0;32mimport\u001b[0m \u001b[0mshap\u001b[0m\u001b[0;34m\u001b[0m\u001b[0;34m\u001b[0m\u001b[0m\n\u001b[0m\u001b[1;32m     11\u001b[0m \u001b[0;32mimport\u001b[0m \u001b[0mmatplotlib\u001b[0m\u001b[0;34m.\u001b[0m\u001b[0mpyplot\u001b[0m \u001b[0;32mas\u001b[0m \u001b[0mplt\u001b[0m\u001b[0;34m\u001b[0m\u001b[0;34m\u001b[0m\u001b[0m\n\u001b[1;32m     12\u001b[0m \u001b[0;32mimport\u001b[0m \u001b[0mtime\u001b[0m\u001b[0;34m\u001b[0m\u001b[0;34m\u001b[0m\u001b[0m\n",
      "\u001b[0;32m~/work/2020-hotJupiter/ML/shap.py\u001b[0m in \u001b[0;36m<module>\u001b[0;34m\u001b[0m\n\u001b[1;32m    226\u001b[0m             \u001b[0mfig\u001b[0m\u001b[0;34m,\u001b[0m \u001b[0max\u001b[0m \u001b[0;34m=\u001b[0m \u001b[0mplt\u001b[0m\u001b[0;34m.\u001b[0m\u001b[0msubplots\u001b[0m\u001b[0;34m(\u001b[0m\u001b[0mfigsize\u001b[0m\u001b[0;34m=\u001b[0m\u001b[0;34m(\u001b[0m\u001b[0;36m2\u001b[0m\u001b[0;34m,\u001b[0m\u001b[0;36m5\u001b[0m\u001b[0;34m)\u001b[0m\u001b[0;34m)\u001b[0m\u001b[0;34m\u001b[0m\u001b[0;34m\u001b[0m\u001b[0m\n\u001b[1;32m    227\u001b[0m \u001b[0;34m\u001b[0m\u001b[0m\n\u001b[0;32m--> 228\u001b[0;31m             \u001b[0mshap_summary_plot\u001b[0m\u001b[0;34m(\u001b[0m\u001b[0mdict_shap\u001b[0m\u001b[0;34m[\u001b[0m\u001b[0mspread\u001b[0m\u001b[0;34m]\u001b[0m\u001b[0;34m[\u001b[0m\u001b[0mt\u001b[0m\u001b[0;34m]\u001b[0m\u001b[0;34m,\u001b[0m \u001b[0mX\u001b[0m\u001b[0;34m)\u001b[0m\u001b[0;34m\u001b[0m\u001b[0;34m\u001b[0m\u001b[0m\n\u001b[0m\u001b[1;32m    229\u001b[0m \u001b[0;34m\u001b[0m\u001b[0m\n\u001b[1;32m    230\u001b[0m             \u001b[0max\u001b[0m\u001b[0;34m.\u001b[0m\u001b[0mset_title\u001b[0m\u001b[0;34m(\u001b[0m\u001b[0;34m\"%dK_spread%s\"\u001b[0m\u001b[0;34m%\u001b[0m\u001b[0;34m(\u001b[0m\u001b[0mt\u001b[0m\u001b[0;34m,\u001b[0m \u001b[0mspread\u001b[0m\u001b[0;34m)\u001b[0m\u001b[0;34m)\u001b[0m\u001b[0;34m\u001b[0m\u001b[0;34m\u001b[0m\u001b[0m\n",
      "\u001b[0;32m~/work/2020-hotJupiter/ML/shap.py\u001b[0m in \u001b[0;36mshap_summary_plot\u001b[0;34m(shap_values, X)\u001b[0m\n\u001b[1;32m    117\u001b[0m \u001b[0;34m\u001b[0m\u001b[0m\n\u001b[1;32m    118\u001b[0m \u001b[0;32mdef\u001b[0m \u001b[0mshap_summary_plot\u001b[0m\u001b[0;34m(\u001b[0m\u001b[0mshap_values\u001b[0m\u001b[0;34m,\u001b[0m \u001b[0mX\u001b[0m\u001b[0;34m)\u001b[0m\u001b[0;34m:\u001b[0m\u001b[0;34m\u001b[0m\u001b[0;34m\u001b[0m\u001b[0m\n\u001b[0;32m--> 119\u001b[0;31m     shap.summary_plot(shap_values,  X[30000:40000], plot_type='bar', class_names=[\"k = 0\", \"k = 10^6\", \"k = 10^8\", \"k = 10^10\"],\n\u001b[0m\u001b[1;32m    120\u001b[0m                      class_inds='original', show=False)#, sort=False)\n\u001b[1;32m    121\u001b[0m \u001b[0;34m\u001b[0m\u001b[0m\n",
      "\u001b[0;31mAttributeError\u001b[0m: partially initialized module 'shap' has no attribute 'summary_plot' (most likely due to a circular import)"
     ],
     "ename": "AttributeError",
     "evalue": "partially initialized module 'shap' has no attribute 'summary_plot' (most likely due to a circular import)",
     "output_type": "error"
    },
    {
     "data": {
      "text/plain": "<Figure size 144x360 with 1 Axes>",
      "image/png": "[encoded data removed]"
     },
     "metadata": {
      "needs_background": "light"
     },
     "output_type": "display_data"
    }
   ],
   "source": [
    "import os\n",
    "import numpy as np\n",
    "import sys\n",
    "import pandas as pd\n",
    "import json\n",
    "import pickle\n",
    "import sklearn.model_selection as ms\n",
    "from sklearn import metrics\n",
    "import xgboost as xgb\n",
    "import shap\n",
    "import matplotlib.pyplot as plt\n",
    "import time"
   ],
   "metadata": {
    "collapsed": false,
    "pycharm": {
     "name": "#%%\n",
     "is_executing": false
    }
   }
  },
  {
   "cell_type": "code",
   "execution_count": 3,
   "outputs": [],
   "source": [
    "### headers for different groups of features\n",
    "\n",
    "header = ['Metallicity', 'Altitude',\n",
    "        'Mean Degree',\n",
    "        'CO Degree', 'CH4 Degree', 'NH3 Degree', 'H2O Degree',\n",
    "        'Average shortest path length',\n",
    "        'Average clustering coefficient',\n",
    "        'CO clustering coefficient', 'CH4 clustering coefficient', 'NH3 clustering coefficient','H2O clustering coefficient',\n",
    "        'CO node betweenness centrality', 'CH4 node betweenness centrality', 'NH3 node betweenness centrality',\n",
    "        'H2O node betweenness centrality',\n",
    "        'Edge betweenness centrality',\n",
    "        'Average neighbor degree',\n",
    "        'CO neighbor degree', 'CH4 neighbor degree', 'NH3 neighbor degree', 'H2O neighbor degree',\n",
    "        'CO abundance', 'CH4 abundance', 'NH3 abundance', 'H2O abundance',\n",
    "        'Delta G distribution', 'Phi distribution',\n",
    "        'Average node betweenness centrality', 'Temperature', 'kzz']\n",
    "\n",
    "header_average = [\n",
    "    'Mean Degree', 'Average shortest path length', 'Average clustering coefficient',\n",
    "    'Average neighbor degree','Average node betweenness centrality', 'Edge betweenness centrality']\n",
    "\n",
    "header_abundance = [n for n in header if n.find('abundance') > -1] # 'CO abundance', 'CH4 abundance', 'NH3 abundance', 'H2O abundance']\n",
    "\n",
    "header_CO = [n for n in header if n.find('CO') > -1]\n",
    "header_CO_without_abundance = list(header_CO)\n",
    "header_CO_without_abundance.remove('CO abundance')\n",
    "\n",
    "header_CH4 = [n for n in header if n.find('CH4') > -1]\n",
    "header_CH4_without_abundance = list(header_CH4)\n",
    "header_CH4_without_abundance.remove('CH4 abundance')\n",
    "\n",
    "header_NH3 = [n for n in header if n.find('NH3') > -1]\n",
    "header_NH3_without_abundance = list(header_NH3)\n",
    "header_NH3_without_abundance.remove('NH3 abundance')\n",
    "\n",
    "header_H20 = [n for n in header if n.find('H2O') > -1]\n",
    "header_H20_without_abundance = list(header_H20)\n",
    "header_H20_without_abundance.remove('H2O abundance')\n",
    "\n",
    "header_individual_cc = [n for n in header if n.find('clustering coefficient') > -1]\n",
    "header_individual_cc.remove('Average clustering coefficient')\n",
    "\n",
    "header_individual_betweenness = [n for n in header if n.find('node betweenness centrality') > -1]\n",
    "header_individual_betweenness.remove('Average node betweenness centrality')\n",
    "\n",
    "header_individual_degree = [n for n in header if n.find('Degree') > -1 and n.find('neighbor degree') == -1]\n",
    "header_individual_degree.remove('Mean Degree')\n",
    "\n",
    "header_individual_neighborDegree = [n for n in header if n.find('neighbor degree') > -1]\n",
    "header_individual_neighborDegree.remove('Average neighbor degree')"
   ],
   "metadata": {
    "collapsed": false,
    "pycharm": {
     "name": "#%%\n",
     "is_executing": false
    }
   }
  },
  {
   "cell_type": "code",
   "execution_count": 4,
   "outputs": [],
   "source": [
    "def XGB_accuracy(X, Y):\n",
    "    \"\"\" Split for training and testing\n",
    "    \"\"\"\n",
    "    x_train, x_test, y_train, y_test = ms.train_test_split(X, Y, test_size=0.2, random_state=0)\n",
    "    eval_set = [(x_train, y_train), (x_test, y_test)]\n",
    "\n",
    "    \"\"\" Fit the decision tree\n",
    "    \"\"\"\n",
    "    # classifier = xgb.XGBClassifier(objective=\"multi:softprob\", min_child_wight=1000, max_depth=2, n_estimators=10000)\n",
    "    classifier = xgb.XGBClassifier(objective=\"multi:softprob\", min_child_wight=10, max_depth=5, n_estimators=1000)\n",
    "    classifier = classifier.fit(x_train, y_train, early_stopping_rounds=100, eval_set=eval_set,\n",
    "                                eval_metric=[\"merror\", \"mlogloss\"], verbose=False)\n",
    "    \"\"\" Predictions\n",
    "    \"\"\"\n",
    "    y_pred = classifier.predict(x_test)\n",
    "    return metrics.accuracy_score(y_test, y_pred)\n",
    "\n",
    "\n",
    "def XGB_shap(X, Y):\n",
    "\n",
    "    # To supress warnings from shap\n",
    "    if not sys.warnoptions:\n",
    "        import warnings\n",
    "        warnings.simplefilter(\"ignore\")\n",
    "\n",
    "    \"\"\" Split for training and testing\n",
    "    \"\"\"\n",
    "    x_train, x_test, y_train, y_test = ms.train_test_split(X, Y, test_size=0.2, random_state=0)\n",
    "    eval_set = [(x_train, y_train), (x_test, y_test)]\n",
    "\n",
    "    \"\"\" Fit the decision tree\n",
    "    \"\"\"\n",
    "    # classifier = xgb.XGBClassifier(objective=\"multi:softprob\", min_child_wight=1000, max_depth=2, n_estimators=10000)\n",
    "    classifier = xgb.XGBClassifier(objective=\"multi:softprob\", min_child_wight=10, max_depth=5, n_estimators=1000)\n",
    "    classifier = classifier.fit(x_train, y_train, early_stopping_rounds=100, eval_set=eval_set,\n",
    "                                eval_metric=[\"merror\", \"mlogloss\"], verbose=False)\n",
    "    \"\"\" Predictions\n",
    "    \"\"\"\n",
    "    y_pred = classifier.predict(x_test)\n",
    "    # print('Accuracy Score: ', metrics.accuracy_score(y_test, y_pred))\n",
    "\n",
    "    \"\"\" shapIT\n",
    "    \"\"\"\n",
    "    explainer = shap.TreeExplainer(classifier)\n",
    "    shap_values = explainer.shap_values(x_test)\n",
    "    # shap.summary_plot(shap_values, X[30000:40000], plot_type='bar', class_names=[\"k = 0\", \"k = 1e06\", \"k = 1e08\", \"k = 1e10\"],\n",
    "    #                   class_inds='original')\n",
    "\n",
    "    return shap_values\n",
    "\n",
    "def shap_summary_plot(shap_values, X):\n",
    "    shap.summary_plot(shap_values,  X[30000:40000], plot_type='bar', class_names=[\"k = 0\", \"k = 10^6\", \"k = 10^8\", \"k = 10^10\"],\n",
    "                     class_inds='original', show=False)#, sort=False)"
   ],
   "metadata": {
    "collapsed": false,
    "pycharm": {
     "name": "#%%\n",
     "is_executing": false
    }
   }
  },
  {
   "cell_type": "code",
   "execution_count": 5,
   "outputs": [],
   "source": [
    "### compute SHAP using different combination of G, topoAve, and abundance.\n",
    "\n",
    "# dict_var = {'topo': header_average, 'ab': header_abundance,\n",
    "#             'topo_ab': header_average + header_abundance,\n",
    "#             'g_topo': ['Delta G distribution'] + header_average,\n",
    "#             'g_ab': ['Delta G distribution'] + header_abundance}\n",
    "#             #'g_topo_ab': ['Delta G distribution'] + header_average + header_abundance}\n",
    "#\n",
    "# for var in list(dict_var.keys()): #dict_var.keys():\n",
    "#     var_name = dict_var[var]\n",
    "#     dict_shap_values = dict()\n",
    "#     for spread in [\"50\", \"250\", \"1000\"]: #spread\n",
    "#\n",
    "#         data_dir = \"/Users/hkim78/work/2020-hotJupiter/data/atmosphere-uncertainty/%sk_spread/\"%spread\n",
    "#\n",
    "#         dict_shap_values[spread] = dict()\n",
    "#         for t in [400, 1200, 2000]:#np.arange(400, 2100, 100):\n",
    "#             st = time.time()\n",
    "#             print('starting')\n",
    "#             print('var', var, 'spread', spread, 'temp', t)\n",
    "#\n",
    "#             data0 = pd.read_csv(data_dir + 'kzz0_temp%d_spread%s.csv'%(t, spread))\n",
    "#             data1 = pd.read_csv(data_dir + 'kzz1_temp%d_spread%s.csv'%(t, spread))\n",
    "#             data2 = pd.read_csv(data_dir + 'kzz2_temp%d_spread%s.csv'%(t, spread))\n",
    "#             data3 = pd.read_csv(data_dir + 'kzz3_temp%d_spread%s.csv'%(t, spread))\n",
    "#\n",
    "#             frames = [data0, data1, data2, data3]\n",
    "#             features = var_name + ['kzz']\n",
    "#             allData = pd.concat(frames, ignore_index=True)\n",
    "#\n",
    "#             allData = allData[features]\n",
    "#\n",
    "#             \"\"\" Split into dependent and independent variables\n",
    "#             \"\"\"\n",
    "#             X = allData.iloc[:, :-1]\n",
    "#             Y = allData.iloc[:, -1].values\n",
    "#\n",
    "#             # a = XGB_accuracy(X, Y)\n",
    "#             # dict_accuracy[spread].append(a)\n",
    "#             dict_shap_values[spread][t] = XGB_shap(X, Y)\n",
    "#\n",
    "#             et = time.time()\n",
    "#             print(et-st)\n",
    "#\n",
    "#     result_dir = \"/Users/hkim78/work/2020-hotJupiter/ML/results/shap/\"\n",
    "#     output_path = result_dir + \"shap_values_%s.dat\"%var\n",
    "#\n",
    "#     with open(output_path, 'wb') as outfile:\n",
    "#         pickle.dump(dict_shap_values, outfile)\n",
    "\n"
   ],
   "metadata": {
    "collapsed": false,
    "pycharm": {
     "name": "#%%\n",
     "is_executing": false
    }
   }
  },
  {
   "cell_type": "code",
   "execution_count": 6,
   "outputs": [
    {
     "traceback": [
      "\u001b[0;31m---------------------------------------------------------------------------\u001b[0m",
      "\u001b[0;31mNameError\u001b[0m                                 Traceback (most recent call last)",
      "\u001b[0;32m<ipython-input-6-011f44895067>\u001b[0m in \u001b[0;36m<module>\u001b[0;34m\u001b[0m\n\u001b[1;32m     48\u001b[0m             \u001b[0mY\u001b[0m \u001b[0;34m=\u001b[0m \u001b[0mallData\u001b[0m\u001b[0;34m.\u001b[0m\u001b[0miloc\u001b[0m\u001b[0;34m[\u001b[0m\u001b[0;34m:\u001b[0m\u001b[0;34m,\u001b[0m \u001b[0;34m-\u001b[0m\u001b[0;36m1\u001b[0m\u001b[0;34m]\u001b[0m\u001b[0;34m.\u001b[0m\u001b[0mvalues\u001b[0m\u001b[0;34m\u001b[0m\u001b[0;34m\u001b[0m\u001b[0m\n\u001b[1;32m     49\u001b[0m \u001b[0;34m\u001b[0m\u001b[0m\n\u001b[0;32m---> 50\u001b[0;31m             \u001b[0mfig\u001b[0m\u001b[0;34m,\u001b[0m \u001b[0max\u001b[0m \u001b[0;34m=\u001b[0m \u001b[0mplt\u001b[0m\u001b[0;34m.\u001b[0m\u001b[0msubplots\u001b[0m\u001b[0;34m(\u001b[0m\u001b[0mfigsize\u001b[0m\u001b[0;34m=\u001b[0m\u001b[0;34m(\u001b[0m\u001b[0;36m2\u001b[0m\u001b[0;34m,\u001b[0m\u001b[0;36m5\u001b[0m\u001b[0;34m)\u001b[0m\u001b[0;34m)\u001b[0m\u001b[0;34m\u001b[0m\u001b[0;34m\u001b[0m\u001b[0m\n\u001b[0m\u001b[1;32m     51\u001b[0m \u001b[0;34m\u001b[0m\u001b[0m\n\u001b[1;32m     52\u001b[0m             \u001b[0mshap_summary_plot\u001b[0m\u001b[0;34m(\u001b[0m\u001b[0mdict_shap\u001b[0m\u001b[0;34m[\u001b[0m\u001b[0mspread\u001b[0m\u001b[0;34m]\u001b[0m\u001b[0;34m[\u001b[0m\u001b[0mt\u001b[0m\u001b[0;34m]\u001b[0m\u001b[0;34m,\u001b[0m \u001b[0mX\u001b[0m\u001b[0;34m)\u001b[0m\u001b[0;34m\u001b[0m\u001b[0;34m\u001b[0m\u001b[0m\n",
      "\u001b[0;31mNameError\u001b[0m: name 'plt' is not defined"
     ],
     "ename": "NameError",
     "evalue": "name 'plt' is not defined",
     "output_type": "error"
    }
   ],
   "source": [
    "## Plot for SHAP using different combination of G, topoAve, and abundance.\n",
    "\n",
    "dir_ML = \"/Users/hkim78/work/2020-hotJupiter/ML/results/shap/\"\n",
    "dict_var = {'topo': header_average, 'ab': header_abundance,\n",
    "            'topo_ab': header_average + header_abundance,\n",
    "            'g_topo': ['Delta G distribution'] + header_average,\n",
    "            'g_ab': ['Delta G distribution'] + header_abundance}\n",
    "\n",
    "dict_feature_names = {'Edge betweenness centrality': 'B_e',\n",
    "                      'Average node betweenness centrality': 'B_n',\n",
    "                      'Average shortest path length': 'L',\n",
    "                      'Average clustering coefficient': 'C',\n",
    "                      'Mean Degree': 'D',\n",
    "                      'Average neighbor degree': 'K_nn',\n",
    "                      'H2O abundance': '|H2O|',\n",
    "                      'CH4 abundance': '|CH4|',\n",
    "                      'CO abundance': '|CO|',\n",
    "                      'NH3 abundance': '|NH3|',\n",
    "                      'Delta G distribution': 'G'}\n",
    "\n",
    "dir_plot = \"/Users/hkim78/work/2020-hotJupiter/plot/atmosphere-uncertainty/shap_test/\"\n",
    "\n",
    "for var in list(dict_var.keys()): #dict_var.keys():\n",
    "    var_name = dict_var[var]\n",
    "\n",
    "    input_path = dir_ML + \"shap_values_%s.dat\"%var\n",
    "    with open(input_path, 'rb') as infile:\n",
    "        dict_shap = pickle.load(infile)\n",
    "\n",
    "    for spread in [\"50\", \"250\", \"1000\"]:\n",
    "        data_dir = \"/Users/hkim78/work/2020-hotJupiter/data/atmosphere-uncertainty/%sk_spread/\" % spread\n",
    "\n",
    "        for t in [400, 1200, 2000]:\n",
    "            data0 = pd.read_csv(data_dir + 'kzz0_temp%d_spread%s.csv'%(t, spread))\n",
    "            data1 = pd.read_csv(data_dir + 'kzz1_temp%d_spread%s.csv'%(t, spread))\n",
    "            data2 = pd.read_csv(data_dir + 'kzz2_temp%d_spread%s.csv'%(t, spread))\n",
    "            data3 = pd.read_csv(data_dir + 'kzz3_temp%d_spread%s.csv'%(t, spread))\n",
    "\n",
    "            frames = [data0, data1, data2, data3]\n",
    "            features = var_name + ['kzz']\n",
    "            allData = pd.concat(frames, ignore_index=True)\n",
    "\n",
    "            allData = allData[features]\n",
    "\n",
    "            \"\"\" Split into dependent and independent variables\n",
    "            \"\"\"\n",
    "            X = allData.iloc[:, :-1]\n",
    "            Y = allData.iloc[:, -1].values\n",
    "\n",
    "            fig, ax = plt.subplots(figsize=(2,5))\n",
    "\n",
    "            shap_summary_plot(dict_shap[spread][t], X)\n",
    "\n",
    "            ax.set_title(\"%dK_spread%s\"%(t, spread))\n",
    "\n",
    "            labels_original = [item.get_text() for item in ax.get_yticklabels()]\n",
    "            #print(labels_original)\n",
    "            len_labels = len(labels_original)\n",
    "            labels_new = list()\n",
    "            for i in range(len_labels):\n",
    "                labels_new.append(dict_feature_names[labels_original[i]])\n",
    "            ax.set_yticklabels(labels_new)\n",
    "            ax.set_xlabel(\"average impact\")\n",
    "            ax.legend(loc=4)\n",
    "            plt.gcf().set_size_inches(3.5, 3.8)\n",
    "            plt.tight_layout()\n",
    "            plt.savefig(dir_plot + \"shap_temp%d_spread%s_%s.png\" % (t, spread, var))\n",
    "            plt.savefig(dir_plot + \"shap_temp%d_spread%s_%s.pdf\" % (t, spread, var))\n",
    "            plt.show()\n",
    "\n",
    "\n"
   ],
   "metadata": {
    "collapsed": false,
    "pycharm": {
     "name": "#%%\n",
     "is_executing": false
    }
   }
  },
  {
   "cell_type": "code",
   "execution_count": null,
   "outputs": [],
   "source": [
    "\n"
   ],
   "metadata": {
    "collapsed": false,
    "pycharm": {
     "name": "#%%\n"
    }
   }
  }
 ],
 "metadata": {
  "kernelspec": {
   "display_name": "Python 3",
   "language": "python",
   "name": "python3"
  },
  "language_info": {
   "codemirror_mode": {
    "name": "ipython",
    "version": 2
   },
   "file_extension": ".py",
   "mimetype": "text/x-python",
   "name": "python",
   "nbconvert_exporter": "python",
   "pygments_lexer": "ipython2",
   "version": "2.7.6"
  },
  "pycharm": {
   "stem_cell": {
    "cell_type": "raw",
    "source": [],
    "metadata": {
     "collapsed": false
    }
   }
  }
 },
 "nbformat": 4,
 "nbformat_minor": 0
}