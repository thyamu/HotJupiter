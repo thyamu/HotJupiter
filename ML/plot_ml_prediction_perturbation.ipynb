{
 "cells": [
  {
   "cell_type": "code",
   "execution_count": 1,
   "outputs": [],
   "source": [
    "import os\n",
    "import numpy as np\n",
    "import pandas as pd\n",
    "import glob\n",
    "import json\n",
    "# import sklearn.model_selection as ms\n",
    "# from sklearn import metrics\n",
    "# import xgboost as xgb\n",
    "import matplotlib.pyplot as plt\n",
    "\n",
    "import matplotlib\n",
    "import time"
   ],
   "metadata": {
    "collapsed": false,
    "pycharm": {
     "name": "#%%\n",
     "is_executing": false
    }
   }
  },
  {
   "cell_type": "code",
   "execution_count": 2,
   "outputs": [],
   "source": [
    "# import matplotlib as mpl\n",
    "# plt.rcParams.update({\n",
    "#     \"text.usetex\": True,\n",
    "#     \"font.family\": \"sans-serif\",\n",
    "#     \"font.sans-serif\": [\"Helvetica\"]})\n",
    "## for Palatino and other serif fonts use:\n",
    "plt.rcParams.update({\n",
    "    \"text.usetex\": True\n",
    "})\n"
   ],
   "metadata": {
    "collapsed": false,
    "pycharm": {
     "name": "#%%\n",
     "is_executing": false
    }
   }
  },
  {
   "cell_type": "code",
   "execution_count": 4,
   "outputs": [],
   "source": [
    "data_dir = \"/Users/hkim78/work/HotJupiter/ML/results/perturbed_data/2021/\"\n",
    "dir_plot = \"/Users/hkim78/work/HotJupiter/plot/atmosphere-uncertainty/perturbed_data/2021/\"\n",
    "\n",
    "\n",
    "mean_temp = np.arange(400, 2100, 100)\n",
    "\n",
    "legend_label = {\"g\":\"G\", \n",
    "                \"ab\": \"Abundance\", \n",
    "                \"topo\":\"Topology\", \n",
    "                \"g_ab\": \"G + Abundance\", \n",
    "                \"g_topo\": \"G + Topology\", \n",
    "                'topo_ab':\"Topology + Abundance\", \n",
    "                'g_topo_ab': \"G + Topology + Abundance\",\n",
    "                'degree': r'$\\langle k \\rangle$', \n",
    "                'cc': r'$\\langle C \\rangle$',\n",
    "                'spl': r'$\\langle \\ell \\rangle$' , \n",
    "                'neighbor': r'$\\langle k_{nn} \\rangle$',\n",
    "                'betw': r'$\\langle g(v) \\rangle$', \n",
    "                'edgebetw': r'$\\langle g(e) \\rangle$',\n",
    "                'g_degree': \"G + %s\"%r'$\\langle k \\rangle$',\n",
    "                'g_cc': \"G + %s\"%r'$\\langle C \\rangle$', \n",
    "                'g_spl': \"G + %s\"%r'$\\langle \\ell \\rangle$', \n",
    "                'g_neighbor': \"G + %s\"%r'$\\langle k_{nn} \\rangle$', \n",
    "                'g_betw': \"G + %s\"%r'$\\langle g(v) \\rangle$', \n",
    "                'g_edgebetw': \"G + %s\"%r'$\\langle g(e) \\rangle$', \n",
    "                \"CH4\": r\"$\\mathrm{CH}_4$\", \n",
    "                \"CO\": r\"$\\mathrm{CO}$\", \n",
    "                \"H2O\": r\"$\\mathrm{H_2O}$\", \n",
    "                \"NH3\": r\"$\\mathrm{NH}_3$\",\n",
    "                'g_CO': \"G + %s\"%r\"$\\mathrm{CO}$\", \n",
    "                'g_CH4': \"G + %s\"%r\"$\\mathrm{CH}_4$\",\n",
    "                'g_NH3': \"G + %s\"%r\"$\\mathrm{NH}_3$\",\n",
    "                'g_H2O': \"G + %s\"%r\"$\\mathrm{H_2O}$\", \n",
    "                'CO_NH3': \"%s + %s\"%(r\"$\\mathrm{CO}$\", r\"$\\mathrm{NH}_3$\"),\n",
    "                'g_CO_NH3': \"G + %s + %s\"%(r\"$\\mathrm{CO}$\", r\"$\\mathrm{NH}_3$\"),\n",
    "                'spl_neighbor_betw_edgebetw': \"%s + %s + %s + %s\"%(r'$\\langle \\ell \\rangle$', r'$\\langle k_{nn} \\rangle$', \n",
    "                                                                   r'$\\langle g(v) \\rangle$', r'$\\langle g(e) \\rangle$'), \n",
    "                'g_spl_neighbor_betw_edgebetw': \"G + %s + %s + %s + %s\"%(r'$\\langle \\ell \\rangle$', r'$\\langle k_{nn} \\rangle$', \n",
    "                                                                   r'$\\langle g(v) \\rangle$', r'$\\langle g(e) \\rangle$'),\n",
    "                'top_predictor': \"G + %s + %s + %s + %s + %s + %s\"%(r\"$\\mathrm{CO}$\", r\"$\\mathrm{NH}_3$\", \n",
    "                                                                    r'$\\langle \\ell \\rangle$', r'$\\langle k_{nn} \\rangle$', \n",
    "                                                                   r'$\\langle g(v) \\rangle$', r'$\\langle g(e) \\rangle$')\n",
    "                }\n",
    "\n",
    "individual_group = ['g', 'topo', 'ab']\n",
    "group_combination = ['topo_ab', 'g_topo', 'g_ab']\n",
    "three_group = ['g_topo_ab']\n",
    "simple_topo = ['degree', 'cc']\n",
    "complex_topo = ['spl', 'neighbor']\n",
    "betweenness = ['betw', 'edgebetw']\n",
    "g_individual_topology = ['g_degree','g_cc', 'g_spl', 'g_neighbor', 'g_betw', 'g_edgebetw']\n",
    "individual_abundance = [\"CH4\", \"CO\", \"H2O\", \"NH3\"]\n",
    "g_individual_abundance = ['g_CO', 'g_CH4','g_NH3','g_H2O']\n",
    "individual_topology = simple_topo + complex_topo + betweenness\n",
    "individual_features = ['g'] + individual_abundance + individual_topology\n",
    "best_predictors = ['CO_NH3', 'spl_neighbor_betw_edgebetw','g_CO_NH3', 'g_spl_neighbor_betw_edgebetw','top_predictor']"
   ],
   "metadata": {
    "collapsed": false,
    "pycharm": {
     "name": "#%%\n",
     "is_executing": false
    }
   }
  },
  {
   "cell_type": "markdown",
   "source": [
    "For each removed_species, three different categories in one plot "
   ],
   "metadata": {
    "collapsed": false,
    "pycharm": {
     "name": "#%% md\n",
     "is_executing": false
    }
   }
  },
  {
   "cell_type": "code",
   "execution_count": 4,
   "outputs": [],
   "source": [],
   "metadata": {
    "collapsed": false,
    "pycharm": {
     "name": "#%%\n",
     "is_executing": false
    }
   }
  },
  {
   "cell_type": "code",
   "execution_count": 5,
   "outputs": [
    {
     "name": "stdout",
     "text": [
      "/Users/hkim78/work/HotJupiter/ML/results/perturbed_data/2021/perturbation_accuracy_spl_neighbor_betw_edgebetw.json\n",
      "/Users/hkim78/work/HotJupiter/ML/results/perturbed_data/2021/perturbation_accuracy_spl_neighbor_betw_edgebetw.json\n",
      "/Users/hkim78/work/HotJupiter/ML/results/perturbed_data/2021/perturbation_accuracy_spl_neighbor_betw_edgebetw.json\n",
      "/Users/hkim78/work/HotJupiter/ML/results/perturbed_data/2021/perturbation_accuracy_spl_neighbor_betw_edgebetw.json\n"
     ],
     "output_type": "stream"
    },
    {
     "data": {
      "text/plain": "<Figure size 367.2x216 with 1 Axes>",
      "image/png": "[encoded data removed]"
     },
     "metadata": {
      "needs_background": "light"
     },
     "output_type": "display_data"
    },
    {
     "data": {
      "text/plain": "<Figure size 367.2x216 with 1 Axes>",
      "image/png": "[encoded data removed]"
     },
     "metadata": {
      "needs_background": "light"
     },
     "output_type": "display_data"
    },
    {
     "data": {
      "text/plain": "<Figure size 367.2x216 with 1 Axes>",
      "image/png": "[encoded data removed]"
     },
     "metadata": {
      "needs_background": "light"
     },
     "output_type": "display_data"
    },
    {
     "data": {
      "text/plain": "<Figure size 367.2x216 with 1 Axes>",
      "image/png": "[encoded data removed]"
     },
     "metadata": {
      "needs_background": "light"
     },
     "output_type": "display_data"
    }
   ],
   "source": [
    "# g + individual_topology\n",
    "\n",
    "for removed_species in [\"CH4\", \"CO\", \"H2O\", \"NH3\"]:\n",
    "    #params = {'tex.usetex': True}\n",
    "    plt.figure(figsize=(5.1, 3))\n",
    "    #plt.rc(usetex = True)\n",
    "    #plt.rcParams.update(params)\n",
    "\n",
    "    for feature_group in ['spl_neighbor_betw_edgebetw']:#['g'] + ['topo'] + simple_topo + complex_topo + betweenness:\n",
    "        input_path = data_dir + \"perturbation_accuracy_%s.json\"%feature_group\n",
    "        print(input_path)\n",
    "        with open(input_path) as infile:\n",
    "            a = json.load(infile)\n",
    "\n",
    "        plt.plot(a[removed_species], label = legend_label[feature_group])\n",
    "\n",
    "    #if removed_species == \"50\":\n",
    "    plt.legend(bbox_to_anchor=(1.04,0.5), loc=\"center left\", fontsize=10)\n",
    "    plt.ylim([0.0,1.05])\n",
    "\n",
    "    plt.xticks(np.arange(0, 17, 2), np.arange(400, 2100, 200), fontsize=10, rotation=30)\n",
    "    plt.yticks(fontsize= 10)\n",
    "\n",
    "    plt.xlabel(\"Mean Temperature (K)\", fontsize=12)\n",
    "    plt.ylabel(\"Accuracy\", fontsize=12)\n",
    "    plt.title(legend_label[removed_species], fontsize=12)\n",
    "    plt.tight_layout()\n",
    "\n",
    "    # plt.savefig(dir_plot + \"perturbed_data_%s_removed_topo.png\"%removed_species, dpi=200)\n",
    "    # plt.savefig(dir_plot + \"perturbed_data_%s_removed_topo.pdf\"%removed_species)\n",
    "    plt.show()"
   ],
   "metadata": {
    "collapsed": false,
    "pycharm": {
     "name": "#%%\n",
     "is_executing": false
    }
   }
  },
  {
   "cell_type": "code",
   "execution_count": null,
   "outputs": [],
   "source": [
    "for topology in simple_topo + complex_topo + betweenness:\n",
    "    input_path = data_dir + \"perturbation_accuracy_%s.json\"%feature_group\n"
   ],
   "metadata": {
    "collapsed": false,
    "pycharm": {
     "name": "#%%\n",
     "is_executing": false
    }
   }
  }
 ],
 "metadata": {
  "kernelspec": {
   "name": "python3",
   "language": "python",
   "display_name": "Python 3"
  },
  "language_info": {
   "codemirror_mode": {
    "name": "ipython",
    "version": 2
   },
   "file_extension": ".py",
   "mimetype": "text/x-python",
   "name": "python",
   "nbconvert_exporter": "python",
   "pygments_lexer": "ipython2",
   "version": "2.7.6"
  },
  "pycharm": {
   "stem_cell": {
    "cell_type": "raw",
    "source": [],
    "metadata": {
     "collapsed": false
    }
   }
  }
 },
 "nbformat": 4,
 "nbformat_minor": 0
}