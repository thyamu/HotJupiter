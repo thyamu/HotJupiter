{
 "cells": [
  {
   "cell_type": "markdown",
   "metadata": {
    "pycharm": {
     "name": "#%% md\n"
    }
   },
   "source": [
    "#### -accuracy vs. Temp (and spread) for three categories of variables "
   ]
  },
  {
   "cell_type": "code",
   "execution_count": 1,
   "metadata": {
    "collapsed": false,
    "jupyter": {
     "outputs_hidden": false
    },
    "pycharm": {
     "is_executing": false,
     "name": "#%%\n"
    }
   },
   "outputs": [],
   "source": [
    "import os\n",
    "import numpy as np\n",
    "import pandas as pd\n",
    "import glob\n",
    "import json\n",
    "# import sklearn.model_selection as ms\n",
    "# from sklearn import metrics\n",
    "# import xgboost as xgb\n",
    "import matplotlib.pyplot as plt\n",
    "import matplotlib\n",
    "import time"
   ]
  },
  {
   "cell_type": "code",
   "execution_count": 2,
   "metadata": {
    "collapsed": false,
    "jupyter": {
     "outputs_hidden": false
    },
    "pycharm": {
     "is_executing": false,
     "name": "#%%\n"
    }
   },
   "outputs": [],
   "source": [
    "# import matplotlib as mpl\n",
    "# plt.rcParams.update({\n",
    "#     \"text.usetex\": True,\n",
    "#     \"font.family\": \"sans-serif\",\n",
    "#     \"font.sans-serif\": [\"Helvetica\"]})\n",
    "## for Palatino and other serif fonts use:\n",
    "plt.rcParams.update({\n",
    "    \"text.usetex\": True\n",
    "})\n",
    "\n"
   ]
  },
  {
   "cell_type": "markdown",
   "metadata": {
    "pycharm": {
     "is_executing": false,
     "name": "#%% md\n"
    }
   },
   "source": [
    "For each spread, three different categories in one plot "
   ]
  },
  {
   "cell_type": "code",
   "execution_count": 3,
   "metadata": {
    "collapsed": false,
    "jupyter": {
     "outputs_hidden": false
    },
    "pycharm": {
     "is_executing": false,
     "name": "#%%\n"
    }
   },
   "outputs": [],
   "source": [
    "dir_plot = \"/Users/hkim78/work/HotJupiter/plot/atmosphere-uncertainty/machine_learning/2021/\"\n",
    "data_dir = \"/Users/hkim78/work/HotJupiter/ML/results/accuracy/2021/\"\n",
    "\n",
    "mean_temp = np.arange(400, 2100, 100)\n",
    "\n",
    "legend_label = {\"g\":\"G\", \n",
    "                \"ab\": \"Abundance\", \n",
    "                \"topo\":\"Topology\", \n",
    "                \"g_ab\": \"G + Abundance\", \n",
    "                \"g_topo\": \"G + Topology\", \n",
    "                'topo_ab':\"Topology + Abundance\", \n",
    "                'g_topo_ab': \"G + Topology + Abundance\",\n",
    "                'degree': r'$\\langle k \\rangle$', \n",
    "                'cc': r'$\\langle C \\rangle$',\n",
    "                'spl': r'$\\langle \\ell \\rangle$' , \n",
    "                'neighbor': r'$\\langle k_{nn} \\rangle$',\n",
    "                'betw': r'$\\langle g(v) \\rangle$', \n",
    "                'edgebetw': r'$\\langle g(e) \\rangle$',\n",
    "                'g_degree': \"G + %s\"%r'$\\langle k \\rangle$',\n",
    "                'g_cc': \"G + %s\"%r'$\\langle C \\rangle$', \n",
    "                'g_spl': \"G + %s\"%r'$\\langle \\ell \\rangle$', \n",
    "                'g_neighbor': \"G + %s\"%r'$\\langle k_{nn} \\rangle$', \n",
    "                'g_betw': \"G + %s\"%r'$\\langle g(v) \\rangle$', \n",
    "                'g_edgebetw': \"G + %s\"%r'$\\langle g(e) \\rangle$', \n",
    "                \"CH4\": r\"$\\mathrm{CH}_4$\", \n",
    "                \"CO\": r\"$\\mathrm{CO}$\", \n",
    "                \"H2O\": r\"$\\mathrm{H_2O}$\", \n",
    "                \"NH3\": r\"$\\mathrm{NH}_3$\",\n",
    "                'g_CO': \"G + %s\"%r\"$\\mathrm{CO}$\", \n",
    "                'g_CH4': \"G + %s\"%r\"$\\mathrm{CH}_4$\",\n",
    "                'g_NH3': \"G + %s\"%r\"$\\mathrm{NH}_3$\",\n",
    "                'g_H2O': \"G + %s\"%r\"$\\mathrm{H_2O}$\"\n",
    "                }\n",
    "\n",
    "individual_group = ['g', 'topo', 'ab']\n",
    "group_combination = ['topo_ab', 'g_topo', 'g_ab']\n",
    "three_group = ['g_topo_ab']\n",
    "simple_topo = ['degree', 'cc']\n",
    "complex_topo = ['spl', 'neighbor']\n",
    "betweenness = ['betw', 'edgebetw']\n",
    "g_individual_topology = ['g_degree','g_cc', 'g_spl', 'g_neighbor', 'g_betw', 'g_edgebetw']\n",
    "individual_abundance = [\"CH4\", \"CO\", \"H2O\", \"NH3\"]\n",
    "g_individual_abundance = ['g_CO', 'g_CH4','g_NH3','g_H2O']\n",
    "individual_topology = simple_topo + complex_topo + betweenness\n",
    "individual_features = ['g'] + individual_abundance + individual_topology\n"
   ]
  },
  {
   "cell_type": "code",
   "execution_count": 8,
   "metadata": {
    "collapsed": false,
    "jupyter": {
     "outputs_hidden": false
    },
    "pycharm": {
     "is_executing": false,
     "name": "#%%\n"
    }
   },
   "outputs": [
    {
     "name": "stderr",
     "output_type": "stream",
     "text": [
      "<ipython-input-8-25d7d87ebee9>:26: MatplotlibDeprecationWarning: Adding an axes using the same arguments as a previous axes currently reuses the earlier instance.  In a future version, a new instance will always be created and returned.  Meanwhile, this warning can be suppressed, and the future behavior ensured, by passing a unique label to each axes instance.\n",
      "  plt.subplot(5, 3, j)\n"
     ]
    },
    {
     "data": {
      "image/png": "[encoded data removed]",
      "text/plain": [
       "<Figure size 576x720 with 15 Axes>"
      ]
     },
     "metadata": {
      "needs_background": "light"
     },
     "output_type": "display_data"
    }
   ],
   "source": [
    "\n",
    "### all individual variables \n",
    "\n",
    "selected = 3 #nth highest accuracy\n",
    "\n",
    "for spread in [\"50\"]:#, \"250\", \"500\"]:\n",
    "\n",
    "    \n",
    "    list_temp = np.arange(400, 2100, 100)\n",
    "\n",
    "    dict_temp_feature = dict()\n",
    "    for temp_index in range(len(list_temp)):\n",
    "        dict_temp_feature[temp_index] = dict()\n",
    "\n",
    "    for feature_group in individual_features:      \n",
    "        input_path = data_dir + \"accuracy_%s.json\"%feature_group\n",
    "        with open(input_path) as infile:\n",
    "            a = json.load(infile)\n",
    "        for temp_index in range(len(list_temp)):\n",
    "            dict_temp_feature[temp_index][feature_group] = a[spread][temp_index]      \n",
    "\n",
    "    plt.figure(figsize=(8, 10))\n",
    "\n",
    "    j = 1\n",
    "    for temp_index in np.arange(1, len(list_temp)-1):   \n",
    "        for feature_group in legend_label.keys(): \n",
    "\n",
    "            plt.subplot(5, 3, j)\n",
    "\n",
    "            # identify the 3 highest predictive variables  \n",
    "            sorted_list = sorted(dict_temp_feature[temp_index].values())\n",
    "            selected_value = sorted_list[-selected]\n",
    "            clrs = ['darkgrey' if (x < selected_value) else 'indianred' for x in dict_temp_feature[temp_index].values()]\n",
    "            feature_label = [legend_label[x] for x in dict_temp_feature[temp_index].keys()]\n",
    "            \n",
    "            # bar plots \n",
    "            plt.bar(feature_label,  dict_temp_feature[temp_index].values(), color=clrs)\n",
    "            \n",
    "            # axis configuration \n",
    "            plt.ylim([0.0,1.05])\n",
    "            plt.xticks(fontsize = 11, rotation=90)\n",
    "            plt.yticks(fontsize= 10)\n",
    "            \n",
    "            # subplot titles for the mean temperature \n",
    "            plt.title(\"%sK\"%(list_temp[temp_index]))\n",
    "            \n",
    "            if j == 7: \n",
    "                plt.ylabel(\"Predicting Accuracy\\n\", fontsize = 13)\n",
    "                \n",
    "        j += 1\n",
    "\n",
    "    plt.tight_layout()\n",
    "\n",
    "    plt.savefig(dir_plot + \"/png-files/barplot_accuracy_spread_%s_all_individual_var.png\"%spread, dpi=300)\n",
    "    plt.savefig(dir_plot + \"/pdf-files/barplot_accuracy_spread_%s_all_individual_var.pdf\"%spread)\n",
    "    plt.show()\n",
    "    \n",
    "\n"
   ]
  },
  {
   "cell_type": "code",
   "execution_count": 4,
   "metadata": {
    "collapsed": false,
    "jupyter": {
     "outputs_hidden": false
    },
    "pycharm": {
     "is_executing": false,
     "name": "#%%\n"
    }
   },
   "outputs": [],
   "source": [
    "\n"
   ]
  }
 ],
 "metadata": {
  "kernelspec": {
   "display_name": "Python 3 (ipykernel)",
   "language": "python",
   "name": "python3"
  },
  "language_info": {
   "codemirror_mode": {
    "name": "ipython",
    "version": 3
   },
   "file_extension": ".py",
   "mimetype": "text/x-python",
   "name": "python",
   "nbconvert_exporter": "python",
   "pygments_lexer": "ipython3",
   "version": "3.9.6"
  },
  "pycharm": {
   "stem_cell": {
    "cell_type": "raw",
    "metadata": {
     "collapsed": false
    },
    "source": []
   }
  }
 },
 "nbformat": 4,
 "nbformat_minor": 4
}
