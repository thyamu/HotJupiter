{
 "cells": [
  {
   "cell_type": "code",
   "execution_count": 1,
   "outputs": [],
   "source": [
    "import networkx as nx\n",
    "import math\n",
    "import matplotlib.pyplot as plt\n",
    "import os\n",
    "import numpy as np\n",
    "import glob"
   ],
   "metadata": {
    "collapsed": false,
    "pycharm": {
     "name": "#%%\n",
     "is_executing": false
    }
   }
  },
  {
   "cell_type": "code",
   "execution_count": 2,
   "outputs": [],
   "source": [
    "def parse_thermo_variables(fileName):\n",
    "    temp = int(fileName.split(\"network/\")[1].split(\"k_\")[0])\n",
    "    kzz = fileName.split(\"network/\")[1].split(\"kzz\")[1].split(\".\")[0]\n",
    "    return temp, kzz\n",
    "\n",
    "def load_graph_from_file(fileName, no_isolated=True):\n",
    "    g = nx.read_graphml(fileName)\n",
    "    if no_isolated:\n",
    "        isolated = sorted([n for n in g.nodes() if g.degree(n) == 0])\n",
    "        g.remove_nodes_from(isolated)\n",
    "    return g\n",
    "\n",
    "def load_graph_from_file_without_isolation(fileName):\n",
    "    g = nx.read_graphml(fileName)\n",
    "    return g\n",
    "\n",
    "\n",
    "def pos_fruchterman_reingold_layout(g: object, w='logWeight'):\n",
    "    iter = 700; kfactor = 120; th = 1e-16; seed = 500\n",
    "    # iter = 200; kfactor = 50; th = 1e-16; seed = 1000;\n",
    "    return nx.fruchterman_reingold_layout(g, iterations=iter, k=kfactor, threshold=th, seed=seed, weight=w)\n",
    "\n",
    "def adjust_label_pos(nodePos: dict, direction: str = \"down\", amount: float = 0.05) -> dict:\n",
    "    #if direction == \"down\":\n",
    "    x_adjust = 0; y_adjust = - amount\n",
    "\n",
    "    if direction == \"up\":\n",
    "        x_adjust = 0; y_adjust = amount\n",
    "    if direction == \"right\":\n",
    "        x_adjust = amount; y_adjust = 0\n",
    "    if direction == \"left\":\n",
    "        x_adjust = - amount; y_adjust = 0\n",
    "\n",
    "    adjusted_pos = dict()\n",
    "    for n in nodePos:\n",
    "        x = nodePos[n][0] + x_adjust\n",
    "        y = nodePos[n][1] + y_adjust\n",
    "        adjusted_pos[n] = [x, y]\n",
    "    return adjusted_pos\n",
    "\n",
    "\n",
    "def get_node_size_attribute(g, nodeAttr):\n",
    "    return [math.pow(1.3, n[1][nodeAttr] - 82) + 50 for n in g.nodes(data=True)]\n",
    "\n",
    "\n",
    "def get_edge_size_attribute(g,edgeAttr):\n",
    "    return [math.pow(1.6, g[u][v][edgeAttr] - 152) - math.pow(0.1, 1.5) for u, v in g.edges()]\n",
    "\n",
    "\n",
    "def renormalize_node_size_attribute(g, nodeAttr):\n",
    "    min_nodeAttr = np.amin([n[1][nodeAttr] for n in g.nodes(data=True)])\n",
    "    max_nodeAttr = np.amax([n[1][nodeAttr] for n in g.nodes(data=True)])\n",
    "    list_nodesize = [math.pow(35, (((n[1][nodeAttr] - min_nodeAttr)/(max_nodeAttr - min_nodeAttr) + 0.3) ** 3)) for n in g.nodes(data=True)]\n",
    "    const = np.sum(list_nodesize)\n",
    "    #return [i / const for i in list_nodesize\n",
    "    print( [(n[1][nodeAttr] - min_nodeAttr)/(max_nodeAttr - min_nodeAttr) for n in g.nodes(data=True)])\n",
    "    return list_nodesize\n",
    "\n",
    "\n",
    "def renormalize_edge_size_attribute(g, edgeAttr):\n",
    "    min_edgeAttr = np.amin([g[u][v][edgeAttr] for u, v in g.edges()])\n",
    "    max_edgeAttr = np.amax([g[u][v][edgeAttr] for u, v in g.edges()])\n",
    "    list_edgesize = [math.pow(35,(((g[u][v][edgeAttr] - min_edgeAttr)/(max_edgeAttr - min_edgeAttr)) ** 20)) - 2 for u, v in g.edges()]\n",
    "    #list_edgesize = [(g[u][v][edgeAttr] - min_edgeAttr) / (max_edgeAttr - min_edgeAttr) ** 3 for u, v in g.edges()]\n",
    "    const = np.sum(list_edgesize)\n",
    "    #return [i / const for i in list_edgesize]\n",
    "    # print([(g[u][v][edgeAttr] - min_edgeAttr)/(max_edgeAttr - min_edgeAttr)  +  0.05 for u, v in g.edges()])\n",
    "    return list_edgesize\n",
    "\n",
    "\n",
    "def draw_single_net_with_attribute(fileName, nodesize='logAbundance', edgesize='logWeight'):\n",
    "    t, k = parse_thermo_variables(fileName)\n",
    "\n",
    "    g = load_graph_from_file(fileName)\n",
    "\n",
    "    pos_node = pos_fruchterman_reingold_layout(g)\n",
    "    pos_label = pos_node\n",
    "\n",
    "    list_nsize = get_node_size_attribute(g, nodeAttr=nodesize)\n",
    "    list_esize = get_edge_size_attribute(g, edgeAttr=edgesize)\n",
    "\n",
    "    plt.figure(figsize=(5,5))\n",
    "    plt.subplot(1,1,1)\n",
    "    plt.axis('off')\n",
    "\n",
    "    nx.draw_networkx_nodes(g, pos_node, node_size=list_nsize)\n",
    "    nx.draw_networkx_labels(g, pos_label, font_size=5)\n",
    "    nx.draw_networkx_edges(g, pos_node, width=list_esize, arrows=False)\n",
    "\n",
    "\n",
    "def draw_multiple_nets_with_attribute(list_fileName, pathOutput, nodesize='logWDegree', edgesize='logWeight', show=True):\n",
    "\n",
    "    # To fix the positions of nodes and labels\n",
    "    g = load_graph_from_file(list_fileName[-1])\n",
    "    pos_node = pos_fruchterman_reingold_layout(g)\n",
    "    #pos_label = adjust_label_pos(pos_node, amount=0.1)\n",
    "    pos_label = pos_node\n",
    "\n",
    "    plt.figure(figsize=(30, 6.5))\n",
    "    sub_index = 1\n",
    "\n",
    "    for fileName in list_fileName:\n",
    "\n",
    "        t, k = parse_thermo_variables(fileName)\n",
    "\n",
    "        g = load_graph_from_file(fileName)\n",
    "\n",
    "        list_nsize = get_node_size_attribute(g, nodeAttr=nodesize)\n",
    "        list_esize = get_edge_size_attribute(g, edgeAttr=edgesize)\n",
    "\n",
    "        plt.subplot(1, len(list_fileName), sub_index)\n",
    "        plt.axis('off')\n",
    "        #plt.title(\"kzz = %s, %dK\\n\"%(k,t))\n",
    "\n",
    "        nx.draw_networkx_nodes(g, pos_node, node_size=list_nsize,\n",
    "                               node_color='#aeccdc')\n",
    "        nx.draw_networkx_labels(g, pos_label, font_size=11)\n",
    "        nx.draw_networkx_edges(g, pos_node, alpha=0.9, width=list_esize,\n",
    "                               edge_color=\"#767676\", arrows=False)\n",
    "\n",
    "        sub_index += 1\n",
    "\n",
    "    plt.savefig(pathOutput, bbox_inches='tight', pad_inches=0)\n",
    "\n",
    "    if show:\n",
    "        plt.show()\n",
    "\n",
    "\n",
    "def draw_multiple_renormalized_nets_with_attribute(list_fileName, pathOutput, nodesize='logWDegree', edgesize='logWeight', show=True):\n",
    "\n",
    "    # To fix the positions of nodes and labels\n",
    "    print(list_fileName[0])\n",
    "    g = load_graph_from_file_without_isolation(list_fileName[0])\n",
    "    \n",
    "    # g = load_graph_from_file(list_fileName[0])\n",
    "    # pos_node = pos_fruchterman_reingold_layout(g)\n",
    "    # #pos_label = adjust_label_pos(pos_node, amount=0.1)\n",
    "    # pos_label = pos_node\n",
    "    # \n",
    "    # plt.figure(figsize=(30, 6.5))\n",
    "    # sub_index = 1\n",
    "    # \n",
    "    # for fileName in list_fileName:\n",
    "    # \n",
    "    #     t, k = parse_thermo_variables(fileName)\n",
    "    # \n",
    "    #     g = load_graph_from_file(fileName)\n",
    "    # \n",
    "    #     list_nsize = renormalize_node_size_attribute(g, nodeAttr=nodesize)\n",
    "    #     list_esize = renormalize_edge_size_attribute(g, edgeAttr=edgesize)\n",
    "    # \n",
    "    #     plt.subplot(1, len(list_fileName), sub_index)\n",
    "    #     plt.axis('off')\n",
    "    #     #plt.title(\"kzz = %s, %dK\\n\"%(k,t))\n",
    "    # \n",
    "    #     nx.draw_networkx_nodes(g, pos_node, node_size=list_nsize,\n",
    "    #                            node_color='#aeccdc')\n",
    "    #     nx.draw_networkx_labels(g, pos_label, font_size=11)\n",
    "    #     nx.draw_networkx_edges(g, pos_node, alpha=0.9, width=list_esize,\n",
    "    #                            edge_color=\"#767676\", arrows=False)\n",
    "    # \n",
    "    #     sub_index += 1\n",
    "    # \n",
    "    # plt.savefig(pathOutput, bbox_inches='tight', pad_inches=0)\n",
    "    # \n",
    "    # if show:\n",
    "    #     plt.show()"
   ],
   "metadata": {
    "collapsed": false,
    "pycharm": {
     "name": "#%%\n",
     "is_executing": false
    }
   }
  },
  {
   "cell_type": "code",
   "execution_count": 3,
   "outputs": [],
   "source": [
    "dir_data = \"/Users/hkim78/work/2020-hotJupiter/data/network\"  # dir for network file\n",
    "dir_viz = \"/Users/hkim78/work/2020-hotJupiter/net_viz/viz\"  # dir for visualizations\n",
    "\n",
    "list_temp = [500, 1000, 1500, 2000]\n",
    "# list_temp = [800, 1300, 1800]\n",
    "list_file_name = list()\n",
    "# for temp in list_temp:\n",
    "#\n",
    "#     file_name = os.path.join(dir_data, \"%dk_1met_kzz0.graphml\"%temp)\n",
    "#     list_file_name.append(file_name)\n",
    "#\n",
    "# draw_multiple_nets_with_attribute(list_file_name, os.path.join(dir_viz, \"kzz0_graphs.pdf\"))\n",
    "#\n",
    "# list_file_name2 = list()\n",
    "# for temp in list_temp:\n",
    "#\n",
    "#     file_name = os.path.join(dir_data, \"%dk_1met_kzz1e10.graphml\"%temp)\n",
    "#     list_file_name2.append(file_name)\n",
    "#\n",
    "# draw_multiple_nets_with_attribute(list_file_name2, os.path.join(dir_viz, \"kzz1e10_graphs.pdf\"))"
   ],
   "metadata": {
    "collapsed": false,
    "pycharm": {
     "name": "#%%\n",
     "is_executing": false
    }
   }
  },
  {
   "cell_type": "code",
   "execution_count": 4,
   "outputs": [],
   "source": [
    "for temp in list_temp:\n",
    "\n",
    "    file_name = os.path.join(dir_data, \"%dk_1met_kzz0.graphml\"%temp)\n",
    "    list_file_name.append(file_name)\n",
    "    \n",
    "    "
   ],
   "metadata": {
    "collapsed": false,
    "pycharm": {
     "name": "#%%\n",
     "is_executing": false
    }
   }
  },
  {
   "cell_type": "code",
   "execution_count": 8,
   "outputs": [],
   "source": [
    "a = list_file_name[0]"
   ],
   "metadata": {
    "collapsed": false,
    "pycharm": {
     "name": "#%%\n",
     "is_executing": false
    }
   }
  },
  {
   "cell_type": "code",
   "execution_count": 23,
   "outputs": [],
   "source": [
    "# test_file = \"/Users/hkim78/work/2020-hotJupiter/data/graphmls/500k_1met_kzz0.graphml\""
   ],
   "metadata": {
    "collapsed": false,
    "pycharm": {
     "name": "#%%\n",
     "is_executing": false
    }
   }
  },
  {
   "cell_type": "code",
   "execution_count": 24,
   "outputs": [],
   "source": [
    "test_file = \"/Users/hkim78/work/2020-hotJupiter/data/network/500k_1met_kzz0.graphml\"\n",
    "\n"
   ],
   "metadata": {
    "collapsed": false,
    "pycharm": {
     "name": "#%%\n",
     "is_executing": false
    }
   }
  },
  {
   "cell_type": "code",
   "execution_count": 25,
   "outputs": [
    {
     "data": {
      "text/plain": "<networkx.classes.digraph.DiGraph at 0x13584ddf0>"
     },
     "metadata": {},
     "output_type": "execute_result",
     "execution_count": 25
    }
   ],
   "source": [
    "load_graph_from_file_without_isolation(test_file)\n"
   ],
   "metadata": {
    "collapsed": false,
    "pycharm": {
     "name": "#%%\n",
     "is_executing": false
    }
   }
  },
  {
   "cell_type": "code",
   "execution_count": null,
   "outputs": [],
   "source": [
    "\n"
   ],
   "metadata": {
    "collapsed": false,
    "pycharm": {
     "name": "#%%\n",
     "is_executing": false
    }
   }
  }
 ],
 "metadata": {
  "kernelspec": {
   "display_name": "Python 3",
   "language": "python",
   "name": "python3"
  },
  "language_info": {
   "codemirror_mode": {
    "name": "ipython",
    "version": 2
   },
   "file_extension": ".py",
   "mimetype": "text/x-python",
   "name": "python",
   "nbconvert_exporter": "python",
   "pygments_lexer": "ipython2",
   "version": "2.7.6"
  },
  "pycharm": {
   "stem_cell": {
    "cell_type": "raw",
    "source": [
     "\n"
    ],
    "metadata": {
     "collapsed": false
    }
   }
  }
 },
 "nbformat": 4,
 "nbformat_minor": 0
}