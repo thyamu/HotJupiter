{
 "cells": [
  {
   "cell_type": "code",
   "execution_count": 1,
   "metadata": {
    "pycharm": {
     "is_executing": false
    }
   },
   "outputs": [],
   "source": [
    "import networkx as nx\n",
    "import pickle\n",
    "import math"
   ]
  },
  {
   "cell_type": "code",
   "execution_count": 2,
   "metadata": {
    "pycharm": {
     "is_executing": false
    }
   },
   "outputs": [],
   "source": [
    "with open(\"list_temp.pickle\", 'rb') as file:\n",
    "    list_temp = pickle.load(file)"
   ]
  },
  {
   "cell_type": "code",
   "execution_count": 3,
   "metadata": {
    "pycharm": {
     "is_executing": false
    }
   },
   "outputs": [
    {
     "data": {
      "text/plain": "['1000k_kzz',\n '1400k_kzz',\n '1600k_kzz',\n '1800k_kzz',\n '2000k_kzz',\n '2200k_kzz',\n '2500k_kzz',\n '2800k_kzz',\n '3000k_kzz',\n '400k_kzz',\n '500k_kzz',\n '750k_kzz',\n '900k_kzz']"
     },
     "metadata": {},
     "output_type": "execute_result",
     "execution_count": 3
    }
   ],
   "source": [
    "list_temp"
   ]
  },
  {
   "cell_type": "code",
   "execution_count": 4,
   "metadata": {
    "pycharm": {
     "is_executing": false
    }
   },
   "outputs": [],
   "source": [
    "list_lab = []; list_ldeg = []; list_lw = []"
   ]
  },
  {
   "cell_type": "code",
   "execution_count": 5,
   "metadata": {
    "pycharm": {
     "is_executing": false
    }
   },
   "outputs": [
    {
     "data": {
      "text/plain": "list"
     },
     "metadata": {},
     "output_type": "execute_result",
     "execution_count": 5
    }
   ],
   "source": [
    "type(list_lab)"
   ]
  },
  {
   "cell_type": "code",
   "execution_count": 6,
   "metadata": {
    "pycharm": {
     "is_executing": false
    }
   },
   "outputs": [],
   "source": [
    "k =\"0\"\n",
    "for t in list_temp:\n",
    "    g = nx.read_gml(\"../jupyter_net/%s=%s.gml\"%(t, k))"
   ]
  },
  {
   "cell_type": "code",
   "execution_count": 7,
   "metadata": {
    "pycharm": {
     "is_executing": false
    }
   },
   "outputs": [
    {
     "name": "stdout",
     "text": [
      "0 1000k_kzz ('He', {'abundance': 0.16233220674226959, 'wdegree': 0}) 0\n",
      "0 1000k_kzz H2O H2 0.0\n",
      "0 1400k_kzz ('He', {'abundance': 0.16227504002341026, 'wdegree': 0}) 0\n",
      "0 1400k_kzz H2O H2 0.0\n",
      "0 1600k_kzz ('He', {'abundance': 0.16226422235124358, 'wdegree': 0}) 0\n",
      "0 1600k_kzz H2O H2 0.0\n",
      "0 1800k_kzz ('He', {'abundance': 0.16219822537181958, 'wdegree': 0}) 0\n",
      "0 1800k_kzz H2O H2 0.0\n",
      "0 2000k_kzz ('He', {'abundance': 0.16192324276300346, 'wdegree': 0}) 0\n",
      "0 2000k_kzz H2O H2 0.0\n",
      "0 2200k_kzz ('He', {'abundance': 0.1610612720874082, 'wdegree': 0}) 0\n",
      "0 2200k_kzz H2O H2 0.0\n",
      "0 2500k_kzz ('He', {'abundance': 0.15700638574141987, 'wdegree': 0}) 0\n",
      "0 2500k_kzz H2O H2 0.0\n",
      "0 2800k_kzz ('He', {'abundance': 0.1464934524608311, 'wdegree': 0}) 0\n",
      "0 2800k_kzz H2O H2 0.0\n",
      "0 3000k_kzz ('He', {'abundance': 0.13499394166971185, 'wdegree': 0}) 0\n",
      "0 3000k_kzz H2O H2 0.0\n",
      "0 400k_kzz ('He', {'abundance': 0.16244927915114307, 'wdegree': 0}) 0\n",
      "0 400k_kzz H2O H2 0.0\n",
      "0 500k_kzz ('He', {'abundance': 0.16244458678382437, 'wdegree': 0}) 0\n",
      "0 500k_kzz H2O H2 0.0\n",
      "0 750k_kzz ('He', {'abundance': 0.16242757235130076, 'wdegree': 0}) 0\n",
      "0 750k_kzz H2O H2 0.0\n",
      "0 900k_kzz ('He', {'abundance': 0.16241047609013373, 'wdegree': 0}) 0\n",
      "0 900k_kzz H2O H2 0.0\n",
      "done\n"
     ],
     "output_type": "stream"
    }
   ],
   "source": [
    "for t in list_temp:\n",
    "    g = nx.read_gml(\"../jupyter_net/%s=%d.gml\"%(t, 0))\n",
    "#         g.remove_node('He')\n",
    "#         g.remove_edge('H2O','H2')\n",
    "\n",
    "    for n in g.nodes(data=True):\n",
    "        #abundance\n",
    "        ab = n[1]['abundance']\n",
    "        if ab == 0:\n",
    "            print (k, t, n, ab)\n",
    "            continue\n",
    "        lab = math.log(ab,10)\n",
    "        list_lab.append(lab)\n",
    "        #weighted degree\n",
    "        wd = n[1]['wdegree']                \n",
    "        if wd == 0:         \n",
    "            print (k, t, n, wd)\n",
    "            continue\n",
    "        ldeg =  math.log(wd, 10)\n",
    "        list_ldeg.append(ldeg)\n",
    "\n",
    "    for u, v in g.edges():\n",
    "        #edge weight\n",
    "        w = g[u][v]['weight']                \n",
    "        if w == 0:          \n",
    "            print (k, t, u, v, w)\n",
    "            continue\n",
    "        lw = math.log(w, 10)\n",
    "        list_lw.append(lw)  \n",
    "print (\"done\")"
   ]
  },
  {
   "cell_type": "code",
   "execution_count": 8,
   "metadata": {
    "pycharm": {
     "is_executing": false
    }
   },
   "outputs": [
    {
     "name": "stdout",
     "text": [
      "-113.179451437114 -68.87996246340951 -174.94640557596887\n"
     ],
     "output_type": "stream"
    }
   ],
   "source": [
    "print(min(list_lab), min(list_ldeg), min(list_lw)) #-113.179451437 -93.1613731143 -174.946405576)"
   ]
  },
  {
   "cell_type": "code",
   "execution_count": 9,
   "metadata": {
    "pycharm": {
     "is_executing": false
    }
   },
   "outputs": [
    {
     "data": {
      "text/plain": "-175"
     },
     "metadata": {},
     "output_type": "execute_result",
     "execution_count": 9
    }
   ],
   "source": [
    "min_lab = int(min(list_lab) - 1)\n",
    "min_lab\n",
    "min_ldeg = int(min(list_ldeg) - 1)\n",
    "min_ldeg\n",
    "min_lw = int(min(list_lw) - 1)\n",
    "min_lw"
   ]
  },
  {
   "cell_type": "code",
   "execution_count": 10,
   "metadata": {
    "pycharm": {
     "is_executing": false
    }
   },
   "outputs": [
    {
     "name": "stdout",
     "text": [
      "done\n"
     ],
     "output_type": "stream"
    }
   ],
   "source": [
    "for t in list_temp:\n",
    "    g = nx.read_gml(\"../jupyter_net/%s=%d.gml\"%(t, 0))\n",
    "\n",
    "#     g.remove_node('He')\n",
    "#     g.remove_edge('H2O','H2')\n",
    "\n",
    "    g_new = nx.Graph()\n",
    "    for n in g.nodes(data=True):\n",
    "        #abundance\n",
    "        ab = n[1]['abundance']\n",
    "        if ab == 0:         \n",
    "            lab = 0.000000001 + min_lab\n",
    "        else:\n",
    "            lab = math.log(ab,10)\n",
    "        #weighted degree\n",
    "        wd = n[1]['wdegree']                \n",
    "        if wd == 0:         \n",
    "            ldeg = 0.000000001 + min_ldeg\n",
    "        else:\n",
    "            ldeg =  math.log(wd, 10)\n",
    "        g_new.add_node(n[0], logAbundance=lab-min_lab , logWDegree=ldeg-min_ldeg)\n",
    "\n",
    "    for u, v in g.edges():\n",
    "        #edge weight\n",
    "        w = g[u][v]['weight']                \n",
    "        if w == 0:          \n",
    "            lw = 0.000000001 + min_lw\n",
    "        else:\n",
    "            lw = math.log(w, 10)\n",
    "        g_new.add_edge(u, v, logWeight=lw-min_lw)\n",
    "\n",
    "        nx.write_gml(g_new, \"../jupyter_net/new_%s=%d.gml\"%(t, 0))\n",
    "print (\"done\")\n"
   ]
  },
  {
   "cell_type": "code",
   "execution_count": null,
   "metadata": {},
   "outputs": [],
   "source": []
  }
 ],
 "metadata": {
  "kernelspec": {
   "display_name": "Python 3",
   "language": "python",
   "name": "python3"
  },
  "language_info": {
   "codemirror_mode": {
    "name": "ipython",
    "version": 3
   },
   "file_extension": ".py",
   "mimetype": "text/x-python",
   "name": "python",
   "nbconvert_exporter": "python",
   "pygments_lexer": "ipython3",
   "version": "3.7.3"
  },
  "pycharm": {
   "stem_cell": {
    "cell_type": "raw",
    "source": [],
    "metadata": {
     "collapsed": false
    }
   }
  }
 },
 "nbformat": 4,
 "nbformat_minor": 2
}