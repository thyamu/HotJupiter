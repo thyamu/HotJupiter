{
 "cells": [
  {
   "cell_type": "code",
   "execution_count": 1,
   "metadata": {
    "pycharm": {
     "is_executing": false
    }
   },
   "outputs": [],
   "source": [
    "import os\n",
    "import networkx as nx\n",
    "import math\n",
    "import glob"
   ]
  },
  {
   "cell_type": "code",
   "execution_count": 2,
   "outputs": [],
   "source": [
    "dir_data = \"/Users/hkim78/work/2020-hotJupiter/data/graphmls\"\n",
    "\n",
    "\n",
    "# lists of logs of abundance, degree, weight\n",
    "list_lab = list(); list_ldeg = list(); list_lw = list()\n",
    "\n",
    "for file_name in sorted(glob.glob(dir_data + \"/*.graphml\")):\n",
    "        \n",
    "    g = nx.read_graphml(file_name)\n",
    "    \n",
    "    for n in g.nodes():\n",
    "        #abundance\n",
    "        ab = g.nodes[n][\"abundance\"]\n",
    "        if ab == 0:\n",
    "            continue\n",
    "        lab = math.log(ab, 10)\n",
    "        list_lab.append(lab)\n",
    "        \n",
    "        #degree\n",
    "        d = g.degree(n, weight=\"weight\")\n",
    "        if d == 0:\n",
    "            continue  \n",
    "        ldeg = math.log(d,10)\n",
    "        list_ldeg.append(ldeg)\n",
    "    \n",
    "    for u, v in g.edges():\n",
    "        #edge weight\n",
    "        w = g[u][v]['weight']  \n",
    "        if w == 0:          \n",
    "            continue\n",
    "        lw = math.log(w, 10)\n",
    "        list_lw.append(lw)"
   ],
   "metadata": {
    "collapsed": false,
    "pycharm": {
     "name": "#%%\n",
     "is_executing": false
    }
   }
  },
  {
   "cell_type": "code",
   "execution_count": 3,
   "metadata": {
    "pycharm": {
     "is_executing": false
    }
   },
   "outputs": [],
   "source": [
    "min_lab = int(min(list_lab) - 1)\n",
    "min_ldeg = int(min(list_ldeg) - 1)\n",
    "min_lw = int(min(list_lw) - 1)"
   ]
  },
  {
   "cell_type": "code",
   "execution_count": 4,
   "outputs": [],
   "source": [
    "dir_result = \"/Users/hkim78/work/2020-hotJupiter/data/network\"\n",
    "\n",
    "# Add log of abundance and weighted degree as nodes' attributes\n",
    "for file_name in sorted(glob.glob(dir_data + \"/*.graphml\")):\n",
    "        \n",
    "    g = nx.read_graphml(file_name)\n",
    "    \n",
    "    g_new = nx.DiGraph()\n",
    "    \n",
    "    for n in g.nodes():\n",
    "        #abundance\n",
    "        ab = g.nodes[n][\"abundance\"]\n",
    "        if ab == 0:\n",
    "            lab = 0.000000001 + min_lab\n",
    "        else:\n",
    "            lab = math.log(ab, 10)\n",
    "\n",
    "        #degree\n",
    "        d = g.degree(n, weight=\"weight\")\n",
    "        if d == 0:\n",
    "            ldeg = 0.000000001 + min_ldeg\n",
    "        else:\n",
    "            ldeg =  math.log(d, 10)\n",
    "\n",
    "        g_new.add_node(n, abundance = ab, degree = d, \n",
    "                   logAbundance = lab - min_lab , logWDegree = ldeg - min_ldeg)\n",
    "\n",
    "    for u, v in g.edges():\n",
    "        #edge weight\n",
    "        w = g[u][v]['weight']                \n",
    "        if w == 0:          \n",
    "            lw = 0.000000001 + min_lw\n",
    "        else:\n",
    "            lw = math.log(w, 10)\n",
    "\n",
    "        g_new.add_edge(u, v, weight = w, logWeight = lw - min_lw)\n",
    "\n",
    "    file_output = dir_result + file_name.split(\"graphmls\")[1]\n",
    "    \n",
    "    nx.write_graphml(g_new, file_output)\n",
    "\n",
    "\n"
   ],
   "metadata": {
    "collapsed": false,
    "pycharm": {
     "name": "#%%\n",
     "is_executing": false
    }
   }
  },
  {
   "cell_type": "code",
   "execution_count": null,
   "outputs": [],
   "source": [
    "    t = file_name.split(\"network/\")[1].split(\"k_\")[0]\n",
    "    \n",
    "    k = file_name.split(\"network/\")[1].split(\"kzz\")[1].split(\".\")[0]"
   ],
   "metadata": {
    "collapsed": false,
    "pycharm": {
     "name": "#%%\n"
    }
   }
  }
 ],
 "metadata": {
  "kernelspec": {
   "display_name": "Python 3",
   "language": "python",
   "name": "python3"
  },
  "language_info": {
   "codemirror_mode": {
    "name": "ipython",
    "version": 3
   },
   "file_extension": ".py",
   "mimetype": "text/x-python",
   "name": "python",
   "nbconvert_exporter": "python",
   "pygments_lexer": "ipython3",
   "version": "3.7.3"
  },
  "pycharm": {
   "stem_cell": {
    "cell_type": "raw",
    "source": [],
    "metadata": {
     "collapsed": false
    }
   }
  }
 },
 "nbformat": 4,
 "nbformat_minor": 2
}